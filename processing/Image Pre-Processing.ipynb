{
 "cells": [
  {
   "cell_type": "markdown",
   "metadata": {},
   "source": [
    "# Once our data is collected and vectorized, this notebook handles formatting"
   ]
  },
  {
   "cell_type": "code",
   "execution_count": 7,
   "metadata": {
    "collapsed": false
   },
   "outputs": [],
   "source": [
    "import PIL\n",
    "import os, sys\n",
    "from IPython.display import display, Image"
   ]
  },
  {
   "cell_type": "code",
   "execution_count": 2,
   "metadata": {
    "collapsed": true
   },
   "outputs": [],
   "source": [
    "thumbnails = \"/data/infovis/thumbnails\""
   ]
  },
  {
   "cell_type": "code",
   "execution_count": 3,
   "metadata": {
    "collapsed": true
   },
   "outputs": [],
   "source": [
    "#Instagram\n",
    "instagram_images = \"/data/infovis/instagram\"\n",
    "\n",
    "#Twitter\n",
    "twitter_images1  = \"/data/infovis/twitter_geo_point\"\n",
    "twitter_images1  = \"/data/infovis/twitter_geo_polygon\""
   ]
  },
  {
   "cell_type": "code",
   "execution_count": 63,
   "metadata": {
    "collapsed": false
   },
   "outputs": [],
   "source": [
    "def create_thumbnails(directory,size):\n",
    "    image_files =  os.listdir(directory)\n",
    "    basewidth = 100\n",
    "    if size == \"thumb\":\n",
    "        basewidth = 150\n",
    "    elif size == \"small\":\n",
    "        basewitdh = 200\n",
    "    elif size == \"medium\":\n",
    "        basewidth = 300\n",
    "    elif size == \"lrg\":\n",
    "        basewidth = 400 \n",
    "        \n",
    "    for idx, img_name in enumerate(image_files):\n",
    "        path = directory+\"/\"+img_name\n",
    "        try:\n",
    "#             display(Image(filename=path))\n",
    "            orig_img = PIL.Image.open(path)\n",
    "            wpercent = (basewidth / float(orig_img.size[0]))\n",
    "            hsize = int((float(orig_img.size[1]) * float(wpercent)))\n",
    "#             display(Image(filename=path, width=basewidth, height=hsize))\n",
    "            resized_img = orig_img.resize((basewidth, hsize), PIL.Image.ANTIALIAS)\n",
    "            resized_img.save('resized_image.jpg')\n",
    "            \n",
    "            resized_img_path = thumbnails+size+\"_\"+img_name\n",
    "            resized_img.save(resized_img_path)\n",
    "            sys.stderr.write(\"\\r {0}: {1}\".format(idx,resized_img_path))\n",
    "        except:\n",
    "            e = sys.exc_info()[0]\n",
    "            print(e)\n",
    "            print(\"Error on: \",path)\n",
    "            continue"
   ]
  },
  {
   "cell_type": "code",
   "execution_count": null,
   "metadata": {
    "collapsed": false
   },
   "outputs": [
    {
     "name": "stderr",
     "output_type": "stream",
     "text": [
      " 72: /data/www/jennings/infovis/thumbnails/small_783152554121187328.jpg"
     ]
    }
   ],
   "source": [
    "size = \"small\"\n",
    "thumbnails = \"/data/www/jennings/infovis/thumbnails/\"\n",
    "create_thumbnails(twitter_images1,size)"
   ]
  },
  {
   "cell_type": "code",
   "execution_count": 24,
   "metadata": {
    "collapsed": true
   },
   "outputs": [],
   "source": [
    "def create_thumbnails_simple(directory, size=(150,150)):\n",
    "    image_files =  os.listdir(directory)\n",
    "    for idx, img_name in enumerate(image_files):\n",
    "        path = directory+\"/\"+img_name\n",
    "        try:\n",
    "            image = PIL.Image.open(path)\n",
    "            res = image.resize(size=size)\n",
    "            res.save(thumbnails + \"/\" + img_name)\n",
    "            sys.stderr.write(\"\\r {0}: {1}\".format(idx,path))\n",
    "        except:\n",
    "            print(\"Error on: \",path)"
   ]
  },
  {
   "cell_type": "code",
   "execution_count": 25,
   "metadata": {
    "collapsed": false
   },
   "outputs": [
    {
     "name": "stderr",
     "output_type": "stream",
     "text": [
      " 3655: /data/infovis/instagram/787775121771683840.jpg"
     ]
    },
    {
     "name": "stdout",
     "output_type": "stream",
     "text": [
      "Error on:  /data/infovis/instagram/783658281029939202.jpg\n"
     ]
    },
    {
     "name": "stderr",
     "output_type": "stream",
     "text": [
      " 18737: /data/infovis/instagram/788233458292252672.jpg"
     ]
    }
   ],
   "source": [
    "thumbnails = \"/data/www/jennings/infovis/map_images\"\n",
    "create_thumbnails_simple(instagram_images)"
   ]
  },
  {
   "cell_type": "code",
   "execution_count": null,
   "metadata": {
    "collapsed": true
   },
   "outputs": [],
   "source": []
  }
 ],
 "metadata": {
  "kernelspec": {
   "display_name": "IPython (Python 3)",
   "language": "python",
   "name": "python3"
  },
  "language_info": {
   "codemirror_mode": {
    "name": "ipython",
    "version": 3
   },
   "file_extension": ".py",
   "mimetype": "text/x-python",
   "name": "python",
   "nbconvert_exporter": "python",
   "pygments_lexer": "ipython3",
   "version": "3.4.3"
  }
 },
 "nbformat": 4,
 "nbformat_minor": 0
}
