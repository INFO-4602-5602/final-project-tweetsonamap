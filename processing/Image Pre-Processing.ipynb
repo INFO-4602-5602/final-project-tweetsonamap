{
 "cells": [
  {
   "cell_type": "markdown",
   "metadata": {},
   "source": [
    "# Once our data is collected and vectorized, this notebook handles formatting"
   ]
  },
  {
   "cell_type": "code",
   "execution_count": 53,
   "metadata": {
    "collapsed": false
   },
   "outputs": [],
   "source": [
    "import PIL\n",
    "from PIL import Image\n",
    "import os, sys, glob\n",
    "import IPython.display\n",
    "from IPython.display import display, Image"
   ]
  },
  {
   "cell_type": "markdown",
   "metadata": {},
   "source": [
    "### Where are your images are located?"
   ]
  },
  {
   "cell_type": "code",
   "execution_count": 54,
   "metadata": {
    "collapsed": true
   },
   "outputs": [],
   "source": [
    "image_directories = [\"/data/infovis/instagram\",\n",
    "                     \"/data/infovis/twitter_geo_point\",\n",
    "                     \"/data/infovis/twitter_geo_polygon\"\n",
    "                    ]\n",
    "\n",
    "#Instagram\n",
    "instagram_images = \"/data/infovis/instagram\"\n",
    "\n",
    "#Twitter\n",
    "twitter_images1  = \"/data/infovis/twitter_geo_point\"\n",
    "twitter_images2  = \"/data/infovis/twitter_geo_polygon\""
   ]
  },
  {
   "cell_type": "markdown",
   "metadata": {},
   "source": [
    "### Resized images will be saved here"
   ]
  },
  {
   "cell_type": "code",
   "execution_count": 55,
   "metadata": {
    "collapsed": true
   },
   "outputs": [],
   "source": [
    "map_image_dir = \"/data/www/jennings/infovis/map_images/\""
   ]
  },
  {
   "cell_type": "code",
   "execution_count": 1,
   "metadata": {
    "collapsed": false
   },
   "outputs": [],
   "source": [
    "def create_thumbnails(directory):\n",
    "    image_files = [file for file in os.listdir(directory) if file.endswith('.jpg')]\n",
    "\n",
    "    sizes = {\"thumb\":60,\n",
    "             \"small\":150,\n",
    "             \"medium\":300,\n",
    "             \"large\":400,\n",
    "             \"original\":-1 #basewidth value won't be used\n",
    "            }\n",
    "\n",
    "    # Iterate over each image\n",
    "    for idx, img_name in enumerate(image_files):\n",
    "        orig_path = directory+\"/\"+img_name\n",
    "#         display(Image(filename=orig_path)) # display original image\n",
    "\n",
    "        try:\n",
    "            orig_img = PIL.Image.open(orig_path)\n",
    "        except:\n",
    "            e = sys.exc_info()[0]\n",
    "            print(e,\"Error on:\",orig_path)\n",
    "            continue\n",
    "\n",
    "        # Iterate over each size/basewidth\n",
    "        for size,basewidth in sizes.items():\n",
    "#             print(size,basewidth)\n",
    "            \n",
    "            # Make directory within map_image_dir for each size\n",
    "            if not os.path.exists(map_image_dir+size):\n",
    "                os.makedirs(map_image_dir+size)\n",
    "                print(\"making directory for\",size)\n",
    "\n",
    "            # Set filename to save resized image and break to the next image if it already exists\n",
    "            new_path = map_image_dir+size+\"/\"+img_name\n",
    "            if os.path.isfile(new_path):\n",
    "                break\n",
    "            \n",
    "            # Don't resize images in original folder\n",
    "            if size == \"original\":\n",
    "                orig_img.save(new_path)\n",
    "            else:\n",
    "                try:\n",
    "                    # Set height proportional to fixed basewidth from \n",
    "                    # https://opensource.com/life/15/2/resize-images-python\n",
    "                    wpercent = (basewidth / float(orig_img.size[0]))\n",
    "                    hsize = int((float(orig_img.size[1]) * float(wpercent))) \n",
    "                    resized_img = orig_img.resize((basewidth, hsize), PIL.Image.ANTIALIAS)\n",
    "                    resized_img.save(new_path)\n",
    "#                     display(Image(filename=orig_path, width=basewidth, height=hsize)) # display resized image\n",
    "                except:\n",
    "                    e = sys.exc_info()[0]\n",
    "                    print(e,\"Error on:\",orig_path)\n",
    "                    break\n",
    "                    \n",
    "            sys.stderr.write(\"\\r {0}: {1}, {2}\".format(idx,new_path,size))"
   ]
  },
  {
   "cell_type": "code",
   "execution_count": null,
   "metadata": {
    "collapsed": false,
    "scrolled": false
   },
   "outputs": [
    {
     "name": "stdout",
     "output_type": "stream",
     "text": [
      "<class 'OSError'> Error on: /data/infovis/twitter_geo_polygon/783877748431294465.jpg\n"
     ]
    },
    {
     "name": "stderr",
     "output_type": "stream",
     "text": [
      " 2364: /data/www/jennings/infovis/map_images/original/782270435966746624.jpg, original"
     ]
    },
    {
     "name": "stdout",
     "output_type": "stream",
     "text": [
      "<class 'OSError'> Error on: /data/infovis/twitter_geo_polygon/783837450410024960.jpg\n"
     ]
    },
    {
     "name": "stderr",
     "output_type": "stream",
     "text": [
      " 5380: /data/www/jennings/infovis/map_images/medium/783328551982489601.jpg, medium"
     ]
    },
    {
     "name": "stdout",
     "output_type": "stream",
     "text": [
      "<class 'OSError'> Error on: /data/infovis/twitter_geo_polygon/783848103715610624.jpg\n"
     ]
    },
    {
     "name": "stderr",
     "output_type": "stream",
     "text": [
      " 6508: /data/www/jennings/infovis/map_images/medium/783309809252704256.jpg, medium"
     ]
    },
    {
     "name": "stdout",
     "output_type": "stream",
     "text": [
      "<class 'OSError'> Error on: /data/infovis/twitter_geo_polygon/783865000733577216.jpg\n"
     ]
    },
    {
     "name": "stderr",
     "output_type": "stream",
     "text": [
      " 6552: /data/www/jennings/infovis/map_images/medium/784114770995712004.jpg, medium"
     ]
    }
   ],
   "source": [
    "for image_dir in image_directories:\n",
    "    print(image_dir)\n",
    "    create_thumbnails(image_dir)"
   ]
  },
  {
   "cell_type": "code",
   "execution_count": 64,
   "metadata": {
    "collapsed": false
   },
   "outputs": [
    {
     "name": "stdout",
     "output_type": "stream",
     "text": [
      "1\n",
      "a\n",
      "c\n",
      "2\n",
      "a\n",
      "c\n",
      "3\n",
      "a\n",
      "c\n"
     ]
    }
   ],
   "source": [
    "for i in [1,2,3]:\n",
    "    print(i)\n",
    "    for j in ['a','b','c']:\n",
    "        if j == 'b':\n",
    "            continue\n",
    "        print(j)"
   ]
  },
  {
   "cell_type": "code",
   "execution_count": 24,
   "metadata": {
    "collapsed": true
   },
   "outputs": [],
   "source": [
    "# def create_thumbnails_simple(directory, size=(150,150)):\n",
    "#     image_files =  os.listdir(directory)\n",
    "#     for idx, img_name in enumerate(image_files):\n",
    "#         path = directory+\"/\"+img_name\n",
    "#         try:\n",
    "#             image = PIL.Image.open(path)\n",
    "#             res = image.resize(size=size)\n",
    "#             res.save(thumbnails + \"/\" + img_name)\n",
    "#             sys.stderr.write(\"\\r {0}: {1}\".format(idx,path))\n",
    "#         except:\n",
    "#             print(\"Error on: \",path)"
   ]
  },
  {
   "cell_type": "code",
   "execution_count": 25,
   "metadata": {
    "collapsed": false
   },
   "outputs": [
    {
     "name": "stderr",
     "output_type": "stream",
     "text": [
      " 3655: /data/infovis/instagram/787775121771683840.jpg"
     ]
    },
    {
     "name": "stdout",
     "output_type": "stream",
     "text": [
      "Error on:  /data/infovis/instagram/783658281029939202.jpg\n"
     ]
    },
    {
     "name": "stderr",
     "output_type": "stream",
     "text": [
      " 18737: /data/infovis/instagram/788233458292252672.jpg"
     ]
    }
   ],
   "source": [
    "# thumbnails = \"/data/www/jennings/infovis/map_images\"\n",
    "# create_thumbnails_simple(instagram_images)"
   ]
  },
  {
   "cell_type": "code",
   "execution_count": null,
   "metadata": {
    "collapsed": true
   },
   "outputs": [],
   "source": []
  }
 ],
 "metadata": {
  "kernelspec": {
   "display_name": "IPython (Python 3)",
   "language": "python",
   "name": "python3"
  },
  "language_info": {
   "codemirror_mode": {
    "name": "ipython",
    "version": 3
   },
   "file_extension": ".py",
   "mimetype": "text/x-python",
   "name": "python",
   "nbconvert_exporter": "python",
   "pygments_lexer": "ipython3",
   "version": "3.4.3"
  }
 },
 "nbformat": 4,
 "nbformat_minor": 0
}
