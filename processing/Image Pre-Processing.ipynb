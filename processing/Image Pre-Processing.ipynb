{
 "cells": [
  {
   "cell_type": "markdown",
   "metadata": {},
   "source": [
    "# Once our data is collected and vectorized, this notebook handles formatting"
   ]
  },
  {
   "cell_type": "code",
   "execution_count": 15,
   "metadata": {
    "collapsed": false
   },
   "outputs": [],
   "source": [
    "import PIL.Image\n",
    "import os, sys\n",
    "import IPython.display"
   ]
  },
  {
   "cell_type": "code",
   "execution_count": 16,
   "metadata": {
    "collapsed": true
   },
   "outputs": [],
   "source": [
    "thumbnails = \"/data/infovis/thumbnails\""
   ]
  },
  {
   "cell_type": "code",
   "execution_count": 17,
   "metadata": {
    "collapsed": true
   },
   "outputs": [],
   "source": [
    "#Instagram\n",
    "instagram_images = \"/data/infovis/instagram\"\n",
    "\n",
    "#Twitter\n",
    "twitter_images   = \"/data/infovis/twitter\""
   ]
  },
  {
   "cell_type": "code",
   "execution_count": 13,
   "metadata": {
    "collapsed": false
   },
   "outputs": [],
   "source": [
    "def create_thumbnails(directory, size=(120,120)):\n",
    "    image_files =  os.listdir(directory)\n",
    "    for idx, img_name in enumerate(image_files):\n",
    "        path = directory+\"/\"+img_name\n",
    "        try:\n",
    "            image = PIL.Image.open(path)\n",
    "            res = image.resize(size=(120,120))\n",
    "            res.save(thumbnails + \"/t_\"+(\"x\").join([str(x) for x in size])+\"_\"+img_name)\n",
    "            sys.stderr.write(\"\\r {0}: {1}\".format(idx,path))\n",
    "        except(e):\n",
    "            print(e)\n",
    "            print(\"Error on: \",path)"
   ]
  },
  {
   "cell_type": "code",
   "execution_count": 24,
   "metadata": {
    "collapsed": true
   },
   "outputs": [],
   "source": [
    "def create_thumbnails_simple(directory, size=(150,150)):\n",
    "    image_files =  os.listdir(directory)\n",
    "    for idx, img_name in enumerate(image_files):\n",
    "        path = directory+\"/\"+img_name\n",
    "        try:\n",
    "            image = PIL.Image.open(path)\n",
    "            res = image.resize(size=size)\n",
    "            res.save(thumbnails + \"/\" + img_name)\n",
    "            sys.stderr.write(\"\\r {0}: {1}\".format(idx,path))\n",
    "        except:\n",
    "            print(\"Error on: \",path)"
   ]
  },
  {
   "cell_type": "code",
   "execution_count": 25,
   "metadata": {
    "collapsed": false
   },
   "outputs": [
    {
     "name": "stderr",
     "output_type": "stream",
     "text": [
      " 3655: /data/infovis/instagram/787775121771683840.jpg"
     ]
    },
    {
     "name": "stdout",
     "output_type": "stream",
     "text": [
      "Error on:  /data/infovis/instagram/783658281029939202.jpg\n"
     ]
    },
    {
     "name": "stderr",
     "output_type": "stream",
     "text": [
      " 18737: /data/infovis/instagram/788233458292252672.jpg"
     ]
    }
   ],
   "source": [
    "thumbnails = \"/data/www/jennings/infovis/map_images\"\n",
    "create_thumbnails_simple(instagram_images)"
   ]
  },
  {
   "cell_type": "code",
   "execution_count": null,
   "metadata": {
    "collapsed": false
   },
   "outputs": [
    {
     "name": "stderr",
     "output_type": "stream",
     "text": [
      " 1053: /data/infovis/twitter/785926712001372160.jpg"
     ]
    }
   ],
   "source": [
    "thumbnails = \"/data/www/jennings/infovis/map_images\"\n",
    "create_thumbnails_simple(twitter_images)"
   ]
  },
  {
   "cell_type": "code",
   "execution_count": null,
   "metadata": {
    "collapsed": true
   },
   "outputs": [],
   "source": []
  }
 ],
 "metadata": {
  "kernelspec": {
   "display_name": "IPython (Python 3)",
   "language": "python",
   "name": "python3"
  },
  "language_info": {
   "codemirror_mode": {
    "name": "ipython",
    "version": 3
   },
   "file_extension": ".py",
   "mimetype": "text/x-python",
   "name": "python",
   "nbconvert_exporter": "python",
   "pygments_lexer": "ipython3",
   "version": "3.4.3"
  }
 },
 "nbformat": 4,
 "nbformat_minor": 0
}
