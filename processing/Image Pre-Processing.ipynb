{
 "cells": [
  {
   "cell_type": "markdown",
   "metadata": {},
   "source": [
    "# Once our data is collected and vectorized, this notebook handles formatting"
   ]
  },
  {
   "cell_type": "code",
   "execution_count": 58,
   "metadata": {
    "collapsed": false
   },
   "outputs": [],
   "source": [
    "import PIL.Image\n",
    "import os, sys\n",
    "import IPython.display"
   ]
  },
  {
   "cell_type": "code",
   "execution_count": 59,
   "metadata": {
    "collapsed": true
   },
   "outputs": [],
   "source": [
    "thumbnails = \"/data/infovis/thumbnails\""
   ]
  },
  {
   "cell_type": "code",
   "execution_count": 60,
   "metadata": {
    "collapsed": true
   },
   "outputs": [],
   "source": [
    "#Instagram\n",
    "instagram_images = \"/data/infovis/instagram\"\n",
    "\n",
    "#Twitter\n",
    "twitter_images   = \"/data/infovis/twitter\""
   ]
  },
  {
   "cell_type": "code",
   "execution_count": 61,
   "metadata": {
    "collapsed": false
   },
   "outputs": [],
   "source": [
    "def create_thumbnails(directory, size=(120,120)):\n",
    "    image_files =  os.listdir(directory)\n",
    "    for idx, img_name in enumerate(image_files):\n",
    "        path = instagram_images+\"/\"+img_name\n",
    "        image = PIL.Image.open(path)\n",
    "        res = image.resize(size=(120,120))\n",
    "        res.save(thumbnails + \"/t_\"+(\"x\").join([str(x) for x in size])+\"_\"+img_name)\n",
    "        sys.stderr.write(\"\\r {0}: {1}\".format(idx,path))"
   ]
  },
  {
   "cell_type": "code",
   "execution_count": 62,
   "metadata": {
    "collapsed": false
   },
   "outputs": [
    {
     "name": "stderr",
     "output_type": "stream",
     "text": [
      " 9: /data/infovis/instagram/783881781372030976.jpg"
     ]
    }
   ],
   "source": [
    "create_thumbnails(instagram_images)"
   ]
  },
  {
   "cell_type": "code",
   "execution_count": null,
   "metadata": {
    "collapsed": true
   },
   "outputs": [],
   "source": []
  }
 ],
 "metadata": {
  "kernelspec": {
   "display_name": "IPython (Python 3)",
   "language": "python",
   "name": "python3"
  },
  "language_info": {
   "codemirror_mode": {
    "name": "ipython",
    "version": 3
   },
   "file_extension": ".py",
   "mimetype": "text/x-python",
   "name": "python",
   "nbconvert_exporter": "python",
   "pygments_lexer": "ipython3",
   "version": "3.4.3"
  }
 },
 "nbformat": 4,
 "nbformat_minor": 0
}
