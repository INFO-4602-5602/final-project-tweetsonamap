{
 "cells": [
  {
   "cell_type": "markdown",
   "metadata": {},
   "source": [
    "# Download the images from the tweets and push to s3 for scalable CDN\n",
    "(Reference: https://github.com/INFO-4602-5602/final-project-tweetsonamap/issues/2)"
   ]
  },
  {
   "cell_type": "code",
   "execution_count": 1,
   "metadata": {
    "collapsed": false
   },
   "outputs": [],
   "source": [
    "import pymongo, json, pprint, urllib.request, os.path, sys\n",
    "from html.parser import HTMLParser"
   ]
  },
  {
   "cell_type": "markdown",
   "metadata": {},
   "source": [
    "Connect to the DB\n",
    "\n",
    "    client = pymongo.MongoClient('mongodb://epic-analytics.cs.colorado.edu')\n",
    "    db = client.matthew\n",
    "    print(db.collection_names())\n",
    "    tweets = db.tweets\n",
    "    print(tweets.count(), \"tweets\")"
   ]
  },
  {
   "cell_type": "code",
   "execution_count": 2,
   "metadata": {
    "collapsed": false
   },
   "outputs": [],
   "source": [
    "client = pymongo.MongoClient('localhost')\n",
    "tweets = client['matthew'].tweets"
   ]
  },
  {
   "cell_type": "code",
   "execution_count": 3,
   "metadata": {
    "collapsed": false
   },
   "outputs": [
    {
     "data": {
      "text/plain": [
       "13830253"
      ]
     },
     "execution_count": 3,
     "metadata": {},
     "output_type": "execute_result"
    }
   ],
   "source": [
    "tweets.count()"
   ]
  },
  {
   "cell_type": "markdown",
   "metadata": {},
   "source": [
    "###  Image Handlers"
   ]
  },
  {
   "cell_type": "code",
   "execution_count": 3,
   "metadata": {
    "collapsed": false
   },
   "outputs": [],
   "source": [
    "err_log = open('scraping_errors_3.log','w')\n",
    "\n",
    "class InstagramHandler(HTMLParser):\n",
    "    \"\"\"\n",
    "        Custom function to handle scraping images from Instagram... totally violates TOS, I think.\n",
    "    \"\"\"\n",
    "    def __init__(self, tweet_id):\n",
    "        self.image_url = None\n",
    "        self.tweet_id = tweet_id\n",
    "        self.directory = \"/data/infovis/instagram\"\n",
    "        super().__init__()\n",
    "        \n",
    "    def image_needed(self):\n",
    "        if os.path.exists(self.directory+\"/\"+self.tweet_id+\".jpg\"):\n",
    "            err_log.write(\"File Exists: \"+self.tweet_id+\"\\n\")\n",
    "            return False\n",
    "        else:\n",
    "            return True\n",
    "\n",
    "    def handle_starttag(self, tag, attrs):\n",
    "        if tag=='meta':\n",
    "            if attrs[0][1]=='og:image':\n",
    "                self.image_url = attrs[1][1]\n",
    "                try:\n",
    "                    req = urllib.request.urlopen(self.image_url)\n",
    "                    with open(self.directory+\"/\"+self.tweet_id+\".jpg\",'wb') as pic:\n",
    "                        pic.write(req.read())\n",
    "                except:\n",
    "                    err_log.write(\"Error, image not found: \"+self.tweet_id+\"\\n\")"
   ]
  },
  {
   "cell_type": "code",
   "execution_count": 4,
   "metadata": {
    "collapsed": true
   },
   "outputs": [],
   "source": [
    "cursor = tweets.find({'geo' : {\"$exists\":True}})"
   ]
  },
  {
   "cell_type": "code",
   "execution_count": null,
   "metadata": {
    "collapsed": false,
    "scrolled": false
   },
   "outputs": [
    {
     "name": "stderr",
     "output_type": "stream",
     "text": [
      " 0: 779833573184536576-c:11: DeprecationWarning: The value of convert_charrefs will become True in 3.5. You are encouraged to set the value explicitly.\n",
      " 8911: 783614745026830336"
     ]
    }
   ],
   "source": [
    "idx = 0;\n",
    "for t in cursor:\n",
    "    tweet_id = t['id'].split(\":\")[2]\n",
    "    for url in t['twitter_entities']['urls']:\n",
    "        sys.stderr.write(\"\\r {0}: {1}\".format(idx,tweet_id))\n",
    "        idx+=1;\n",
    "\n",
    "        #Instagram Case\n",
    "        if url['expanded_url'].startswith(\"https://www.instagram.com\"):            \n",
    "            parser = InstagramHandler(tweet_id)\n",
    "            if parser.image_needed():\n",
    "                try:\n",
    "                    req = urllib.request.urlopen(url['expanded_url'])\n",
    "                    parser.feed(req.read().decode('utf-8'))\n",
    "                except:\n",
    "                    err_log.write(\"Error, page not found: \"+tweet_id + \"\\n\")\n",
    "err_log.close()"
   ]
  },
  {
   "cell_type": "markdown",
   "metadata": {},
   "source": [
    "## Get images from geotagged tweets"
   ]
  },
  {
   "cell_type": "code",
   "execution_count": 4,
   "metadata": {
    "collapsed": false
   },
   "outputs": [],
   "source": [
    "geo_image_tweets = list(tweets.find({\n",
    "    \"verb\":\"post\", # original tweet\n",
    "    \"twitter_extended_entities.media.0\":{\"$exists\":True}, # at least 1 media entity\n",
    "    \"twitter_extended_entities.media\": {\"$all\":[{\"$elemMatch\": { \"type\": \"photo\" }}]}, # all media entities are photos\n",
    "    \"location.geo.coordinates\":{\"$exists\":True}\n",
    "}))"
   ]
  },
  {
   "cell_type": "code",
   "execution_count": 18,
   "metadata": {
    "collapsed": false
   },
   "outputs": [
    {
     "data": {
      "text/plain": [
       "23789"
      ]
     },
     "execution_count": 18,
     "metadata": {},
     "output_type": "execute_result"
    }
   ],
   "source": [
    "len(geo_image_tweets)"
   ]
  },
  {
   "cell_type": "code",
   "execution_count": 27,
   "metadata": {
    "collapsed": true
   },
   "outputs": [],
   "source": [
    "class TwitterHandler(HTMLParser):\n",
    "    \"\"\"\n",
    "        Custom function to handle downloading tweet images.\n",
    "    \"\"\"\n",
    "    def __init__(self, tweet_id):\n",
    "        self.image_url = None\n",
    "        self.tweet_id = tweet_id\n",
    "        self.directory = \"/data/infovis/twitter\"\n",
    "        super().__init__()\n",
    "        \n",
    "    def image_needed(self):\n",
    "        if os.path.exists(self.directory+\"/\"+self.tweet_id+\".jpg\"):\n",
    "            err_log.write(\"File Exists: \"+self.tweet_id+\"\\n\")\n",
    "            return False\n",
    "        else:\n",
    "            return True"
   ]
  },
  {
   "cell_type": "code",
   "execution_count": 29,
   "metadata": {
    "collapsed": false
   },
   "outputs": [
    {
     "name": "stdout",
     "output_type": "stream",
     "text": [
      "https://pbs.twimg.com/media/CtKGGh_XgAAZiZB.jpg\n",
      "https://pbs.twimg.com/media/CtKGvDIUsAAO_ku.jpg\n",
      "https://pbs.twimg.com/media/CtKHV4yWIAABbJY.jpg\n",
      "https://pbs.twimg.com/media/CtKKt44VYAAIs5w.jpg\n",
      "https://pbs.twimg.com/media/CtKPWsrVMAAz1za.jpg\n",
      "https://pbs.twimg.com/media/B2hfaeSIMAEJq5d.jpg\n",
      "https://pbs.twimg.com/media/BuR8ET2IcAEY1aR.jpg\n",
      "https://pbs.twimg.com/media/CtKUcX-VMAA9ENY.jpg\n",
      "https://pbs.twimg.com/media/CtKWEuiXEAArmSP.jpg\n",
      "https://pbs.twimg.com/media/CtKW9zhUAAAuzfa.jpg\n"
     ]
    },
    {
     "name": "stderr",
     "output_type": "stream",
     "text": [
      "\r",
      " 0: 779833156773871616-c:9: DeprecationWarning: The value of convert_charrefs will become True in 3.5. You are encouraged to set the value explicitly.\n",
      "\r",
      " 1: 779833865082843136\r",
      " 2: 779835256035799040\r",
      " 3: 779838282410528768\r",
      " 4: 779843307987804160\r",
      " 5: 779845609415118849\r",
      " 6: 779846889437065217\r",
      " 7: 779848913482153984\r",
      " 8: 779850700822052864\r",
      " 9: 779851721065402368"
     ]
    }
   ],
   "source": [
    "err_log = open('scraping_errors_twitter.log','w')\n",
    "\n",
    "idx = 0;\n",
    "for t in geo_image_tweets[:10]:\n",
    "    tweet_id = t['id'].split(\":\")[2]\n",
    "    img_url = t['twitter_extended_entities']['media'][0]['media_url_https']\n",
    "    print(img_url)\n",
    "    sys.stderr.write(\"\\r {0}: {1}\".format(idx,tweet_id))\n",
    "    idx+=1;\n",
    "\n",
    "    parser = TwitterHandler(tweet_id)\n",
    "    if parser.image_needed():\n",
    "        try:\n",
    "            req = urllib.request.urlopen(img_url)\n",
    "            parser.feed(req.read().decode('utf-8'))\n",
    "        except:\n",
    "            err_log.write(\"Error, page not found: \"+tweet_id + \"\\n\")\n",
    "err_log.close()"
   ]
  },
  {
   "cell_type": "code",
   "execution_count": 16,
   "metadata": {
    "collapsed": false
   },
   "outputs": [
    {
     "name": "stdout",
     "output_type": "stream",
     "text": [
      "https://pbs.twimg.com/media/CtKGGh_XgAAZiZB.jpg\n",
      "<class 'FileNotFoundError'> https://pbs.twimg.com/media/CtKGGh_XgAAZiZB.jpg\n",
      "https://pbs.twimg.com/media/CtKGvDIUsAAO_ku.jpg\n",
      "<class 'FileNotFoundError'> https://pbs.twimg.com/media/CtKGvDIUsAAO_ku.jpg\n",
      "https://pbs.twimg.com/media/CtKHV4yWIAABbJY.jpg\n",
      "<class 'FileNotFoundError'> https://pbs.twimg.com/media/CtKHV4yWIAABbJY.jpg\n",
      "https://pbs.twimg.com/media/CtKKt44VYAAIs5w.jpg\n",
      "<class 'FileNotFoundError'> https://pbs.twimg.com/media/CtKKt44VYAAIs5w.jpg\n",
      "https://pbs.twimg.com/media/CtKPWsrVMAAz1za.jpg\n",
      "<class 'FileNotFoundError'> https://pbs.twimg.com/media/CtKPWsrVMAAz1za.jpg\n",
      "https://pbs.twimg.com/media/B2hfaeSIMAEJq5d.jpg\n",
      "<class 'FileNotFoundError'> https://pbs.twimg.com/media/B2hfaeSIMAEJq5d.jpg\n",
      "https://pbs.twimg.com/media/BuR8ET2IcAEY1aR.jpg\n",
      "<class 'FileNotFoundError'> https://pbs.twimg.com/media/BuR8ET2IcAEY1aR.jpg\n",
      "https://pbs.twimg.com/media/CtKUcX-VMAA9ENY.jpg\n",
      "<class 'FileNotFoundError'> https://pbs.twimg.com/media/CtKUcX-VMAA9ENY.jpg\n",
      "https://pbs.twimg.com/media/CtKWEuiXEAArmSP.jpg\n",
      "<class 'FileNotFoundError'> https://pbs.twimg.com/media/CtKWEuiXEAArmSP.jpg\n",
      "https://pbs.twimg.com/media/CtKW9zhUAAAuzfa.jpg\n",
      "<class 'FileNotFoundError'> https://pbs.twimg.com/media/CtKW9zhUAAAuzfa.jpg\n",
      "https://pbs.twimg.com/media/CtKX2PLXEAACu0n.jpg\n",
      "<class 'FileNotFoundError'> https://pbs.twimg.com/media/CtKX2PLXEAACu0n.jpg\n",
      "https://pbs.twimg.com/media/CtKa4NGVYAAMipH.jpg\n",
      "<class 'FileNotFoundError'> https://pbs.twimg.com/media/CtKa4NGVYAAMipH.jpg\n",
      "https://pbs.twimg.com/media/CtKdZz4XgAAqhov.jpg\n",
      "<class 'FileNotFoundError'> https://pbs.twimg.com/media/CtKdZz4XgAAqhov.jpg\n",
      "https://pbs.twimg.com/media/CtKexcQXYAAixCI.jpg\n",
      "<class 'FileNotFoundError'> https://pbs.twimg.com/media/CtKexcQXYAAixCI.jpg\n",
      "https://pbs.twimg.com/media/CtKfbucUsAUMGcK.jpg\n",
      "<class 'FileNotFoundError'> https://pbs.twimg.com/media/CtKfbucUsAUMGcK.jpg\n",
      "https://pbs.twimg.com/media/CtKgbaTWYAAlDuR.jpg\n",
      "<class 'FileNotFoundError'> https://pbs.twimg.com/media/CtKgbaTWYAAlDuR.jpg\n",
      "https://pbs.twimg.com/media/CtKhevDXgAQVflE.jpg\n",
      "<class 'FileNotFoundError'> https://pbs.twimg.com/media/CtKhevDXgAQVflE.jpg\n",
      "https://pbs.twimg.com/media/CtKk0YdWAAAWklf.jpg\n",
      "<class 'FileNotFoundError'> https://pbs.twimg.com/media/CtKk0YdWAAAWklf.jpg\n",
      "https://pbs.twimg.com/media/B2hgSA3CAAEpi2h.jpg\n",
      "<class 'FileNotFoundError'> https://pbs.twimg.com/media/B2hgSA3CAAEpi2h.jpg\n",
      "https://pbs.twimg.com/media/CtKluu4WcAE2Y1t.jpg\n",
      "<class 'FileNotFoundError'> https://pbs.twimg.com/media/CtKluu4WcAE2Y1t.jpg\n",
      "https://pbs.twimg.com/media/CtKnCpUUEAId3R4.jpg\n",
      "<class 'FileNotFoundError'> https://pbs.twimg.com/media/CtKnCpUUEAId3R4.jpg\n",
      "https://pbs.twimg.com/media/CtE75lvWEAAZQaM.jpg\n",
      "<class 'FileNotFoundError'> https://pbs.twimg.com/media/CtE75lvWEAAZQaM.jpg\n",
      "https://pbs.twimg.com/media/CtKopLrWgAAAr2W.jpg\n",
      "<class 'FileNotFoundError'> https://pbs.twimg.com/media/CtKopLrWgAAAr2W.jpg\n",
      "https://pbs.twimg.com/media/CtKq2pcUkAAhwy4.jpg\n",
      "<class 'FileNotFoundError'> https://pbs.twimg.com/media/CtKq2pcUkAAhwy4.jpg\n",
      "https://pbs.twimg.com/media/CtKsNnZWEAARYc3.jpg\n",
      "<class 'FileNotFoundError'> https://pbs.twimg.com/media/CtKsNnZWEAARYc3.jpg\n",
      "https://pbs.twimg.com/media/CtKtaBEWgAAIy-L.jpg\n",
      "<class 'FileNotFoundError'> https://pbs.twimg.com/media/CtKtaBEWgAAIy-L.jpg\n",
      "https://pbs.twimg.com/media/CtKvI43WcAA9XZM.jpg\n",
      "<class 'FileNotFoundError'> https://pbs.twimg.com/media/CtKvI43WcAA9XZM.jpg\n",
      "https://pbs.twimg.com/media/CtKvHS8WEAA6QVb.jpg\n",
      "<class 'FileNotFoundError'> https://pbs.twimg.com/media/CtKvHS8WEAA6QVb.jpg\n",
      "https://pbs.twimg.com/media/CtKwj25XYAAHeN7.jpg\n",
      "<class 'FileNotFoundError'> https://pbs.twimg.com/media/CtKwj25XYAAHeN7.jpg\n",
      "https://pbs.twimg.com/media/CtKxLFHUIAA_SG9.jpg\n",
      "<class 'FileNotFoundError'> https://pbs.twimg.com/media/CtKxLFHUIAA_SG9.jpg\n",
      "https://pbs.twimg.com/media/CtKyprLWYAA3D-p.jpg\n",
      "<class 'FileNotFoundError'> https://pbs.twimg.com/media/CtKyprLWYAA3D-p.jpg\n",
      "https://pbs.twimg.com/media/CtKy5N6VUAA_fRw.jpg\n",
      "<class 'FileNotFoundError'> https://pbs.twimg.com/media/CtKy5N6VUAA_fRw.jpg\n",
      "https://pbs.twimg.com/media/CtKzklsWEAAufom.jpg\n",
      "<class 'FileNotFoundError'> https://pbs.twimg.com/media/CtKzklsWEAAufom.jpg\n",
      "https://pbs.twimg.com/media/CtK0tywW8AAx7__.jpg\n",
      "<class 'FileNotFoundError'> https://pbs.twimg.com/media/CtK0tywW8AAx7__.jpg\n",
      "https://pbs.twimg.com/media/CtK5LhOWgAApUeL.jpg\n",
      "<class 'FileNotFoundError'> https://pbs.twimg.com/media/CtK5LhOWgAApUeL.jpg\n",
      "https://pbs.twimg.com/media/CtK6Dm2VUAA6609.jpg\n",
      "<class 'FileNotFoundError'> https://pbs.twimg.com/media/CtK6Dm2VUAA6609.jpg\n",
      "https://pbs.twimg.com/media/CtK7oeyWEAAsaE1.jpg\n",
      "<class 'FileNotFoundError'> https://pbs.twimg.com/media/CtK7oeyWEAAsaE1.jpg\n",
      "https://pbs.twimg.com/media/CtK9VrjXgAAnUQl.jpg\n",
      "<class 'FileNotFoundError'> https://pbs.twimg.com/media/CtK9VrjXgAAnUQl.jpg\n",
      "https://pbs.twimg.com/media/CtK_l56UsAARlAI.jpg\n",
      "<class 'FileNotFoundError'> https://pbs.twimg.com/media/CtK_l56UsAARlAI.jpg\n",
      "https://pbs.twimg.com/media/CtK_siVWcAA5BMi.jpg\n",
      "<class 'FileNotFoundError'> https://pbs.twimg.com/media/CtK_siVWcAA5BMi.jpg\n",
      "https://pbs.twimg.com/media/CtLBZdSWYAAHvP_.jpg\n",
      "<class 'FileNotFoundError'> https://pbs.twimg.com/media/CtLBZdSWYAAHvP_.jpg\n",
      "https://pbs.twimg.com/media/CtLGIh6WIAAe2j-.jpg\n",
      "<class 'FileNotFoundError'> https://pbs.twimg.com/media/CtLGIh6WIAAe2j-.jpg\n",
      "https://pbs.twimg.com/media/CtLQwZAUEAAJjuF.jpg\n",
      "<class 'FileNotFoundError'> https://pbs.twimg.com/media/CtLQwZAUEAAJjuF.jpg\n",
      "https://pbs.twimg.com/media/CtLUeOtWYAAgc2A.jpg\n",
      "<class 'FileNotFoundError'> https://pbs.twimg.com/media/CtLUeOtWYAAgc2A.jpg\n",
      "https://pbs.twimg.com/media/CtLWCfYUMAAjxh_.jpg\n",
      "<class 'FileNotFoundError'> https://pbs.twimg.com/media/CtLWCfYUMAAjxh_.jpg\n",
      "https://pbs.twimg.com/media/CtLhHfFVUAEr0Nd.jpg\n",
      "<class 'FileNotFoundError'> https://pbs.twimg.com/media/CtLhHfFVUAEr0Nd.jpg\n",
      "https://pbs.twimg.com/media/CtLixgJVUAAyJ2o.jpg\n",
      "<class 'FileNotFoundError'> https://pbs.twimg.com/media/CtLixgJVUAAyJ2o.jpg\n",
      "https://pbs.twimg.com/media/CkKXIzfWsAAlzxd.jpg\n",
      "<class 'FileNotFoundError'> https://pbs.twimg.com/media/CkKXIzfWsAAlzxd.jpg\n",
      "https://pbs.twimg.com/media/CtLkQWLUsAEtlFL.jpg\n",
      "<class 'FileNotFoundError'> https://pbs.twimg.com/media/CtLkQWLUsAEtlFL.jpg\n",
      "https://pbs.twimg.com/media/CtLoCGrVUAAgBYg.jpg\n",
      "<class 'FileNotFoundError'> https://pbs.twimg.com/media/CtLoCGrVUAAgBYg.jpg\n",
      "https://pbs.twimg.com/media/CtLqgoeWgAAfhxm.jpg\n",
      "<class 'FileNotFoundError'> https://pbs.twimg.com/media/CtLqgoeWgAAfhxm.jpg\n",
      "https://pbs.twimg.com/media/CtLwe47WAAEUiLd.jpg\n",
      "<class 'FileNotFoundError'> https://pbs.twimg.com/media/CtLwe47WAAEUiLd.jpg\n",
      "https://pbs.twimg.com/media/CtLyG56WEAAw5gS.jpg\n",
      "<class 'FileNotFoundError'> https://pbs.twimg.com/media/CtLyG56WEAAw5gS.jpg\n",
      "https://pbs.twimg.com/media/CtLyYAjVYAA5-my.jpg\n",
      "<class 'urllib.error.HTTPError'> https://pbs.twimg.com/media/CtLyYAjVYAA5-my.jpg\n",
      "https://pbs.twimg.com/media/CtMC8dDWgAAN8OP.jpg\n",
      "<class 'FileNotFoundError'> https://pbs.twimg.com/media/CtMC8dDWgAAN8OP.jpg\n",
      "https://pbs.twimg.com/media/CtMJbA6VIAAlz-a.jpg\n",
      "<class 'urllib.error.HTTPError'> https://pbs.twimg.com/media/CtMJbA6VIAAlz-a.jpg\n",
      "https://pbs.twimg.com/media/CtMJ25kVMAESt-C.jpg\n",
      "<class 'FileNotFoundError'> https://pbs.twimg.com/media/CtMJ25kVMAESt-C.jpg\n",
      "https://pbs.twimg.com/media/CtMMn-jWgAAbRTG.jpg\n",
      "<class 'FileNotFoundError'> https://pbs.twimg.com/media/CtMMn-jWgAAbRTG.jpg\n",
      "https://pbs.twimg.com/media/CtMSuiEXYAEqH3-.jpg\n",
      "<class 'FileNotFoundError'> https://pbs.twimg.com/media/CtMSuiEXYAEqH3-.jpg\n",
      "https://pbs.twimg.com/media/CtMXBpzXgAAW5EZ.jpg\n",
      "<class 'FileNotFoundError'> https://pbs.twimg.com/media/CtMXBpzXgAAW5EZ.jpg\n",
      "https://pbs.twimg.com/media/CtMaYSQUIAA0OmH.jpg\n",
      "<class 'FileNotFoundError'> https://pbs.twimg.com/media/CtMaYSQUIAA0OmH.jpg\n",
      "https://pbs.twimg.com/media/CtMbF4kUIAA-SeU.jpg\n",
      "<class 'FileNotFoundError'> https://pbs.twimg.com/media/CtMbF4kUIAA-SeU.jpg\n",
      "https://pbs.twimg.com/media/CtMlE-1VYAQnISZ.jpg\n",
      "<class 'FileNotFoundError'> https://pbs.twimg.com/media/CtMlE-1VYAQnISZ.jpg\n",
      "https://pbs.twimg.com/media/CtMmGwlWEAApfYI.jpg\n",
      "<class 'urllib.error.HTTPError'> https://pbs.twimg.com/media/CtMmGwlWEAApfYI.jpg\n",
      "https://pbs.twimg.com/media/CtMohPaWgAAHOxo.jpg\n",
      "<class 'FileNotFoundError'> https://pbs.twimg.com/media/CtMohPaWgAAHOxo.jpg\n",
      "https://pbs.twimg.com/media/CtMt0jzW8AEN_Aw.jpg\n",
      "<class 'FileNotFoundError'> https://pbs.twimg.com/media/CtMt0jzW8AEN_Aw.jpg\n",
      "https://pbs.twimg.com/media/CtMvS6pUMAQHrGY.jpg\n",
      "<class 'FileNotFoundError'> https://pbs.twimg.com/media/CtMvS6pUMAQHrGY.jpg\n",
      "https://pbs.twimg.com/media/CtMz8dOVYAEFu_X.jpg\n",
      "<class 'FileNotFoundError'> https://pbs.twimg.com/media/CtMz8dOVYAEFu_X.jpg\n",
      "https://pbs.twimg.com/media/CtMz7AaVYAApR1K.jpg\n",
      "<class 'FileNotFoundError'> https://pbs.twimg.com/media/CtMz7AaVYAApR1K.jpg\n",
      "https://pbs.twimg.com/media/CtM1BZfWEAMuJnG.jpg\n",
      "<class 'FileNotFoundError'> https://pbs.twimg.com/media/CtM1BZfWEAMuJnG.jpg\n",
      "https://pbs.twimg.com/media/CtM1hsTXgAAxpiV.jpg\n",
      "<class 'FileNotFoundError'> https://pbs.twimg.com/media/CtM1hsTXgAAxpiV.jpg\n",
      "https://pbs.twimg.com/media/CtM2TkoXEAAXqKR.jpg\n",
      "<class 'FileNotFoundError'> https://pbs.twimg.com/media/CtM2TkoXEAAXqKR.jpg\n",
      "https://pbs.twimg.com/media/CtM2vjnUAAAVJIT.jpg\n",
      "<class 'FileNotFoundError'> https://pbs.twimg.com/media/CtM2vjnUAAAVJIT.jpg\n",
      "https://pbs.twimg.com/media/CtM29KcUkAAMeqJ.jpg\n",
      "<class 'FileNotFoundError'> https://pbs.twimg.com/media/CtM29KcUkAAMeqJ.jpg\n",
      "https://pbs.twimg.com/media/CtM3vxCW8AA7op4.jpg\n",
      "<class 'FileNotFoundError'> https://pbs.twimg.com/media/CtM3vxCW8AA7op4.jpg\n",
      "https://pbs.twimg.com/media/CtM8JkCVMAEYEe3.jpg\n",
      "<class 'FileNotFoundError'> https://pbs.twimg.com/media/CtM8JkCVMAEYEe3.jpg\n",
      "https://pbs.twimg.com/media/CtM89NTXgAAv1-Y.jpg\n",
      "<class 'FileNotFoundError'> https://pbs.twimg.com/media/CtM89NTXgAAv1-Y.jpg\n",
      "https://pbs.twimg.com/media/CtM9mGxXEAAvCQJ.jpg\n",
      "<class 'FileNotFoundError'> https://pbs.twimg.com/media/CtM9mGxXEAAvCQJ.jpg\n",
      "https://pbs.twimg.com/media/CtM9mrOWEAEtH09.jpg\n",
      "<class 'FileNotFoundError'> https://pbs.twimg.com/media/CtM9mrOWEAEtH09.jpg\n",
      "https://pbs.twimg.com/media/CtM93B4XYAAR3PE.jpg\n",
      "<class 'FileNotFoundError'> https://pbs.twimg.com/media/CtM93B4XYAAR3PE.jpg\n",
      "https://pbs.twimg.com/media/CtM-VQcUsAE50dT.jpg\n",
      "<class 'FileNotFoundError'> https://pbs.twimg.com/media/CtM-VQcUsAE50dT.jpg\n",
      "https://pbs.twimg.com/media/CtM-uf9UEAEloTG.jpg\n",
      "<class 'FileNotFoundError'> https://pbs.twimg.com/media/CtM-uf9UEAEloTG.jpg\n",
      "https://pbs.twimg.com/media/CtM-y6fWIAEbknV.jpg\n",
      "<class 'urllib.error.HTTPError'> https://pbs.twimg.com/media/CtM-y6fWIAEbknV.jpg\n",
      "https://pbs.twimg.com/media/CtM-12UXYAAMT_8.jpg\n",
      "<class 'urllib.error.HTTPError'> https://pbs.twimg.com/media/CtM-12UXYAAMT_8.jpg\n",
      "https://pbs.twimg.com/media/CtM-6aRXEAAIfn-.jpg\n",
      "<class 'urllib.error.HTTPError'> https://pbs.twimg.com/media/CtM-6aRXEAAIfn-.jpg\n",
      "https://pbs.twimg.com/media/CtM-9k4W8AILn2e.jpg\n",
      "<class 'urllib.error.HTTPError'> https://pbs.twimg.com/media/CtM-9k4W8AILn2e.jpg\n",
      "https://pbs.twimg.com/media/CtM_BdfXYAAWqm4.jpg\n",
      "<class 'urllib.error.HTTPError'> https://pbs.twimg.com/media/CtM_BdfXYAAWqm4.jpg\n",
      "https://pbs.twimg.com/media/CtM_EdNWAAAIEzu.jpg\n",
      "<class 'urllib.error.HTTPError'> https://pbs.twimg.com/media/CtM_EdNWAAAIEzu.jpg\n",
      "https://pbs.twimg.com/media/CtM_KR8WIAAUYs-.jpg\n",
      "<class 'urllib.error.HTTPError'> https://pbs.twimg.com/media/CtM_KR8WIAAUYs-.jpg\n",
      "https://pbs.twimg.com/media/CtM_QS_XYAAkr0O.jpg\n",
      "<class 'urllib.error.HTTPError'> https://pbs.twimg.com/media/CtM_QS_XYAAkr0O.jpg\n",
      "https://pbs.twimg.com/media/CtM_XgjWEAIYO1t.jpg\n",
      "<class 'urllib.error.HTTPError'> https://pbs.twimg.com/media/CtM_XgjWEAIYO1t.jpg\n",
      "https://pbs.twimg.com/media/CtM_a-lWEAA4VVJ.jpg\n",
      "<class 'FileNotFoundError'> https://pbs.twimg.com/media/CtM_a-lWEAA4VVJ.jpg\n",
      "https://pbs.twimg.com/media/CtM_dCHW8AE-Cm4.jpg\n",
      "<class 'urllib.error.HTTPError'> https://pbs.twimg.com/media/CtM_dCHW8AE-Cm4.jpg\n",
      "https://pbs.twimg.com/media/CtM_kP3WAAAg8B6.jpg\n",
      "<class 'urllib.error.HTTPError'> https://pbs.twimg.com/media/CtM_kP3WAAAg8B6.jpg\n",
      "https://pbs.twimg.com/media/CtM_pEMW8AEpCAY.jpg\n",
      "<class 'urllib.error.HTTPError'> https://pbs.twimg.com/media/CtM_pEMW8AEpCAY.jpg\n",
      "https://pbs.twimg.com/media/CtM_tD1WYAE3BR1.jpg\n",
      "<class 'urllib.error.HTTPError'> https://pbs.twimg.com/media/CtM_tD1WYAE3BR1.jpg\n",
      "https://pbs.twimg.com/media/CtM_wCvWEAAsNuO.jpg\n",
      "<class 'urllib.error.HTTPError'> https://pbs.twimg.com/media/CtM_wCvWEAAsNuO.jpg\n",
      "https://pbs.twimg.com/media/CtM_yuBXgAARc69.jpg\n",
      "<class 'urllib.error.HTTPError'> https://pbs.twimg.com/media/CtM_yuBXgAARc69.jpg\n",
      "https://pbs.twimg.com/media/CtNAFqsWYAA2EfV.jpg\n",
      "<class 'urllib.error.HTTPError'> https://pbs.twimg.com/media/CtNAFqsWYAA2EfV.jpg\n",
      "https://pbs.twimg.com/media/CtNAGVzXEAARxyI.jpg\n",
      "<class 'urllib.error.HTTPError'> https://pbs.twimg.com/media/CtNAGVzXEAARxyI.jpg\n"
     ]
    }
   ],
   "source": [
    "# i=0\n",
    "# for tweet in geo_image_tweets:\n",
    "#     if i<100:\n",
    "#         i += 1\n",
    "\n",
    "#         img_url = tweet['twitter_extended_entities']['media'][0]['media_url_https']\n",
    "#         img_name = img_url.split(\"/\")[-1]\n",
    "#         print(img_url)\n",
    "\n",
    "#         # save image locally\n",
    "#         try:\n",
    "#             urllib.request.urlretrieve(img_url, \"/data/infovis/twitter/\"+img_name)\n",
    "#         except:\n",
    "#             e = sys.exc_info()[0]\n",
    "#             print(e, img_url)"
   ]
  },
  {
   "cell_type": "code",
   "execution_count": null,
   "metadata": {
    "collapsed": true
   },
   "outputs": [],
   "source": []
  }
 ],
 "metadata": {
  "kernelspec": {
   "display_name": "IPython (Python 3)",
   "language": "python",
   "name": "python3"
  },
  "language_info": {
   "codemirror_mode": {
    "name": "ipython",
    "version": 3
   },
   "file_extension": ".py",
   "mimetype": "text/x-python",
   "name": "python",
   "nbconvert_exporter": "python",
   "pygments_lexer": "ipython3",
   "version": "3.4.3"
  }
 },
 "nbformat": 4,
 "nbformat_minor": 1
}
