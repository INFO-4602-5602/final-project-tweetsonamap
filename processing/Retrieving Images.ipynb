{
 "cells": [
  {
   "cell_type": "markdown",
   "metadata": {},
   "source": [
    "# Download the images from the tweets and push to s3 for scalable CDN\n",
    "(Reference: https://github.com/INFO-4602-5602/final-project-tweetsonamap/issues/2)"
   ]
  },
  {
   "cell_type": "code",
   "execution_count": 8,
   "metadata": {
    "collapsed": false
   },
   "outputs": [],
   "source": [
    "import pymongo, json, pprint, urllib.request, os.path, sys\n",
    "from html.parser import HTMLParser"
   ]
  },
  {
   "cell_type": "markdown",
   "metadata": {},
   "source": [
    "Connect to the DB\n",
    "\n",
    "    client = pymongo.MongoClient('mongodb://epic-analytics.cs.colorado.edu')\n",
    "    db = client.matthew\n",
    "    print(db.collection_names())\n",
    "    tweets = db.tweets\n",
    "    print(tweets.count(), \"tweets\")"
   ]
  },
  {
   "cell_type": "code",
   "execution_count": 9,
   "metadata": {
    "collapsed": false
   },
   "outputs": [],
   "source": [
    "client = pymongo.MongoClient('localhost')\n",
    "tweets = client['matthew'].tweets"
   ]
  },
  {
   "cell_type": "code",
   "execution_count": 3,
   "metadata": {
    "collapsed": false
   },
   "outputs": [
    {
     "data": {
      "text/plain": [
       "13830253"
      ]
     },
     "execution_count": 3,
     "metadata": {},
     "output_type": "execute_result"
    }
   ],
   "source": [
    "tweets.count()"
   ]
  },
  {
   "cell_type": "markdown",
   "metadata": {},
   "source": [
    "###  Image Handlers"
   ]
  },
  {
   "cell_type": "code",
   "execution_count": 10,
   "metadata": {
    "collapsed": false
   },
   "outputs": [],
   "source": [
    "err_log = open('scraping_errors_3.log','w')\n",
    "\n",
    "class InstagramHandler(HTMLParser):\n",
    "    \"\"\"\n",
    "        Custom function to handle scraping images from Instagram... totally violates TOS, I think.\n",
    "    \"\"\"\n",
    "    def __init__(self, tweet_id):\n",
    "        self.image_url = None\n",
    "        self.tweet_id = tweet_id\n",
    "        self.directory = \"/data/infovis/instagram\"\n",
    "        super().__init__()\n",
    "        \n",
    "    def image_needed(self):\n",
    "        if os.path.exists(self.directory+\"/\"+self.tweet_id+\".jpg\"):\n",
    "            err_log.write(\"File Exists: \"+self.tweet_id+\"\\n\")\n",
    "            return False\n",
    "        else:\n",
    "            return True\n",
    "\n",
    "    def handle_starttag(self, tag, attrs):\n",
    "        if tag=='meta':\n",
    "            if attrs[0][1]=='og:image':\n",
    "                self.image_url = attrs[1][1]\n",
    "                try:\n",
    "                    req = urllib.request.urlopen(self.image_url)\n",
    "                    with open(self.directory+\"/\"+self.tweet_id+\".jpg\",'wb') as pic:\n",
    "                        pic.write(req.read())\n",
    "                except:\n",
    "                    err_log.write(\"Error, image not found: \"+self.tweet_id+\"\\n\")"
   ]
  },
  {
   "cell_type": "code",
   "execution_count": 11,
   "metadata": {
    "collapsed": true
   },
   "outputs": [],
   "source": [
    "cursor = tweets.find({'geo' : {\"$exists\":True}}).batch_size(10)"
   ]
  },
  {
   "cell_type": "code",
   "execution_count": null,
   "metadata": {
    "collapsed": false,
    "scrolled": false
   },
   "outputs": [
    {
     "name": "stderr",
     "output_type": "stream",
     "text": [
      " 0: 779833573184536576-c:11: DeprecationWarning: The value of convert_charrefs will become True in 3.5. You are encouraged to set the value explicitly.\n",
      " 4984: 782369390272520192"
     ]
    }
   ],
   "source": [
    "idx = 0;\n",
    "for t in cursor:\n",
    "    tweet_id = t['id'].split(\":\")[2]\n",
    "    for url in t['twitter_entities']['urls']:\n",
    "        sys.stderr.write(\"\\r {0}: {1}\".format(idx,tweet_id))\n",
    "        idx+=1;\n",
    "\n",
    "        #Instagram Case\n",
    "        if url['expanded_url'].startswith(\"https://www.instagram.com\"):            \n",
    "            parser = InstagramHandler(tweet_id)\n",
    "            if parser.image_needed():\n",
    "                try:\n",
    "                    req = urllib.request.urlopen(url['expanded_url'])\n",
    "                    parser.feed(req.read().decode('utf-8'))\n",
    "                except:\n",
    "                    err_log.write(\"Error, page not found: \"+tweet_id + \"\\n\")\n",
    "err_log.close()"
   ]
  },
  {
   "cell_type": "markdown",
   "metadata": {},
   "source": [
    "## Get images from geotagged tweets"
   ]
  },
  {
   "cell_type": "code",
   "execution_count": 4,
   "metadata": {
    "collapsed": false
   },
   "outputs": [],
   "source": [
    "geo_image_tweets = list(tweets.find({\n",
    "    \"verb\":\"post\", # original tweet\n",
    "    \"twitter_extended_entities.media.0\":{\"$exists\":True}, # at least 1 media entity\n",
    "    \"twitter_extended_entities.media\": {\"$all\":[{\"$elemMatch\": { \"type\": \"photo\" }}]}, # all media entities are photos\n",
    "    \"location.geo.coordinates\":{\"$exists\":True}\n",
    "}))"
   ]
  },
  {
   "cell_type": "code",
   "execution_count": 18,
   "metadata": {
    "collapsed": false
   },
   "outputs": [
    {
     "data": {
      "text/plain": [
       "23789"
      ]
     },
     "execution_count": 18,
     "metadata": {},
     "output_type": "execute_result"
    }
   ],
   "source": [
    "len(geo_image_tweets)"
   ]
  },
  {
   "cell_type": "code",
   "execution_count": 36,
   "metadata": {
    "collapsed": false
   },
   "outputs": [
    {
     "name": "stderr",
     "output_type": "stream",
     "text": [
      " id 789617161878863876: 23788 tweets, 1161 errors"
     ]
    }
   ],
   "source": [
    "count = 0\n",
    "count_errors = 0\n",
    "err_log = open('scraping_errors_twitter.log','w')\n",
    "\n",
    "for tweet in geo_image_tweets:\n",
    "\n",
    "    tweet_id = tweet['id'].split(\":\")[2]\n",
    "    img_url = tweet['twitter_extended_entities']['media'][0]['media_url_https']\n",
    "#     img_name = img_url.split(\"/\")[-1]\n",
    "#     print(img_url)\n",
    "\n",
    "    sys.stderr.write(\"\\r id {0}: {1} tweets, {2} errors\".format(tweet_id,count,count_errors))\n",
    "    count += 1\n",
    "\n",
    "    # save image locally\n",
    "    try:\n",
    "        urllib.request.urlretrieve(img_url, \"/data/infovis/twitter/\"+tweet_id+\".jpg\")\n",
    "    except:\n",
    "        count_errors += 1\n",
    "        e = sys.exc_info()[0]\n",
    "        err_log.write(\"Error, page not found: \"+tweet_id + \"\\n\")\n",
    "\n",
    "err_log.close()"
   ]
  },
  {
   "cell_type": "code",
   "execution_count": null,
   "metadata": {
    "collapsed": true
   },
   "outputs": [],
   "source": []
  }
 ],
 "metadata": {
  "kernelspec": {
   "display_name": "IPython (Python 3)",
   "language": "python",
   "name": "python3"
  },
  "language_info": {
   "codemirror_mode": {
    "name": "ipython",
    "version": 3
   },
   "file_extension": ".py",
   "mimetype": "text/x-python",
   "name": "python",
   "nbconvert_exporter": "python",
   "pygments_lexer": "ipython3",
   "version": "3.4.3"
  }
 },
 "nbformat": 4,
 "nbformat_minor": 1
}
