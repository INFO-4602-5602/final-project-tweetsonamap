{
 "cells": [
  {
   "cell_type": "markdown",
   "metadata": {},
   "source": [
    "# Converting geotagged-point tweets to GEOJSON"
   ]
  },
  {
   "cell_type": "code",
   "execution_count": 1,
   "metadata": {
    "collapsed": false
   },
   "outputs": [],
   "source": [
    "import pymongo, json, pprint, urllib.request, os.path, sys\n",
    "import pandas as pd"
   ]
  },
  {
   "cell_type": "code",
   "execution_count": 2,
   "metadata": {
    "collapsed": false
   },
   "outputs": [
    {
     "name": "stdout",
     "output_type": "stream",
     "text": [
      "{'client': 'epic-analytics.cs.colorado.edu',\n",
      " 'collection': 'tweets',\n",
      " 'database': 'matthew',\n",
      " 'img_root': 'http://epic-analytics.cs.colorado.edu:9000/jennings/infovis/map_images',\n",
      " 'start_date': '2016-9-25',\n",
      " 'web_root': '/data/www/jennings/infovis'}\n"
     ]
    }
   ],
   "source": [
    "config = json.load(open('tweets-on-a-map.config','r'))\n",
    "pprint.pprint(config)"
   ]
  },
  {
   "cell_type": "code",
   "execution_count": 3,
   "metadata": {
    "collapsed": false
   },
   "outputs": [
    {
     "name": "stdout",
     "output_type": "stream",
     "text": [
      "Found 13830253 tweets \n"
     ]
    }
   ],
   "source": [
    "client = pymongo.MongoClient('mongodb://'+config['client'])\n",
    "db = client[config['database']]\n",
    "tweets = db[config['collection']]\n",
    "print(\"Found {0} tweets \".format(tweets.count()))"
   ]
  },
  {
   "cell_type": "code",
   "execution_count": 4,
   "metadata": {
    "collapsed": true
   },
   "outputs": [],
   "source": [
    "cursor = tweets.find({'geo' : {\"$exists\":True}}).batch_size(10)"
   ]
  },
  {
   "cell_type": "code",
   "execution_count": 5,
   "metadata": {
    "collapsed": true
   },
   "outputs": [],
   "source": [
    "start_date = pd.Timestamp(config['start_date'])"
   ]
  },
  {
   "cell_type": "code",
   "execution_count": 10,
   "metadata": {
    "collapsed": false,
    "scrolled": false
   },
   "outputs": [],
   "source": [
    "idx = 0;\n",
    "feats = []\n",
    "for t in cursor:\n",
    "    tweet_id = t['id'].split(\":\")[2]\n",
    "    if os.path.exists(\"/data/www/jennings/infovis/map_images/thumb/\"+tweet_id+\".jpg\"):\n",
    "        jsonObj = { \"type\" : \"Feature\",\n",
    "                 \"geometry\" : {\"type\" : \"Point\", \"coordinates\" : list(reversed(t['geo']['coordinates']))},\n",
    "                 \"properties\" : {  \"id\" : tweet_id,\n",
    "                                   \"user\" : t['actor']['preferredUsername'],\n",
    "                                   \"text\" : t['body'],\n",
    "                                   \"day\" : int( ( pd.Timestamp(t['postedTime']) - start_date ).total_seconds() /(3600*24) )\n",
    "           }\n",
    "         }\n",
    "        feats.append(jsonObj)"
   ]
  },
  {
   "cell_type": "code",
   "execution_count": 11,
   "metadata": {
    "collapsed": false
   },
   "outputs": [],
   "source": [
    "with open('/data/www/jennings/infovis/geotagged-tweets.geojson','w') as outFile:\n",
    "    json.dump({'type':\"FeatureCollection\",\"features\":feats},outFile)"
   ]
  }
 ],
 "metadata": {
  "kernelspec": {
   "display_name": "IPython (Python 3)",
   "language": "python",
   "name": "python3"
  },
  "language_info": {
   "codemirror_mode": {
    "name": "ipython",
    "version": 3
   },
   "file_extension": ".py",
   "mimetype": "text/x-python",
   "name": "python",
   "nbconvert_exporter": "python",
   "pygments_lexer": "ipython3",
   "version": "3.4.3"
  }
 },
 "nbformat": 4,
 "nbformat_minor": 1
}
