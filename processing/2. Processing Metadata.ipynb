{
 "cells": [
  {
   "cell_type": "markdown",
   "metadata": {},
   "source": [
    "# Stage 2: Filter by Metadata & Process Points\n",
    "\n",
    "Given the geojsons created in step 1, process these into new geojson files with point data.\n",
    "\n",
    "(This process is moved over here because node allows us to use turf)"
   ]
  },
  {
   "cell_type": "code",
   "execution_count": 40,
   "metadata": {
    "collapsed": false
   },
   "outputs": [
    {
     "data": {
      "text/plain": [
       "undefined"
      ]
     },
     "execution_count": 40,
     "metadata": {},
     "output_type": "execute_result"
    }
   ],
   "source": [
    "var turf = require('turf')\n",
    "var fs = require('fs')\n",
    "var _ = require('lodash')"
   ]
  },
  {
   "cell_type": "code",
   "execution_count": 41,
   "metadata": {
    "collapsed": false
   },
   "outputs": [
    {
     "data": {
      "text/plain": [
       "'hajj.config'"
      ]
     },
     "execution_count": 41,
     "metadata": {},
     "output_type": "execute_result"
    }
   ],
   "source": [
    "config_file = 'hajj.config'"
   ]
  },
  {
   "cell_type": "code",
   "execution_count": 42,
   "metadata": {
    "collapsed": false
   },
   "outputs": [
    {
     "data": {
      "text/plain": [
       "{ tweets: '/data/hajj/gnip_tweets_full.jsonl',\n",
       "  web_root: '/data/www/tweetsonamap/hajj',\n",
       "  start_date: '2016-09-07' }"
      ]
     },
     "execution_count": 42,
     "metadata": {},
     "output_type": "execute_result"
    }
   ],
   "source": [
    "var config = JSON.parse(fs.readFileSync(config_file))\n",
    "config"
   ]
  },
  {
   "cell_type": "code",
   "execution_count": 43,
   "metadata": {
    "collapsed": false
   },
   "outputs": [
    {
     "ename": "Error",
     "evalue": "ENOENT: no such file or directory, open '/data/www/tweetsonamap/hajj/image-tweets-by-polygon.geojson'",
     "output_type": "error",
     "traceback": [
      "Error: ENOENT: no such file or directory, open '/data/www/tweetsonamap/hajj/image-tweets-by-polygon.geojson'",
      "    at Error (native)",
      "    at Object.fs.openSync (fs.js:641:18)",
      "    at Object.fs.readFileSync (fs.js:509:33)",
      "    at evalmachine.<anonymous>:1:24",
      "    at ContextifyScript.Script.runInThisContext (vm.js:25:33)",
      "    at Object.runInThisContext (vm.js:97:38)",
      "    at run ([eval]:608:19)",
      "    at onRunRequest ([eval]:379:22)",
      "    at onMessage ([eval]:347:17)",
      "    at emitTwo (events.js:106:13)"
     ]
    }
   ],
   "source": [
    "var fc = JSON.parse(fs.readFileSync(config.web_root + \"/image-tweets-by-polygon.geojson\"))\n",
    "fc.features.length;"
   ]
  },
  {
   "cell_type": "code",
   "execution_count": 25,
   "metadata": {
    "collapsed": false
   },
   "outputs": [
    {
     "name": "stdout",
     "output_type": "stream",
     "text": [
      "Features kept: 3563, tweets: 22582, dismissed: 4 with 78 tweets\n",
      "Zeroes counted 958, tweets: 1129\n"
     ]
    },
    {
     "data": {
      "text/plain": [
       "null"
      ]
     },
     "execution_count": 25,
     "metadata": {},
     "output_type": "execute_result"
    }
   ],
   "source": [
    "var newFeatures = []\n",
    "var count       = 0\n",
    "var zeroes      = []\n",
    "var zero_feats  = 0;\n",
    "var tweets      = 0;\n",
    "var dismissed   = 0;\n",
    "var dismissedTweets = 0;\n",
    "\n",
    "fc.features.forEach(function(feat){\n",
    "    var area = Math.floor(turf.area(feat.geometry)/1000000) //Area is in square kilometers\n",
    "    \n",
    "    if (area < 9999999){ //Empirically chosen as a limit because otherwise the areas don't make sense :) \n",
    "        if (area==0){\n",
    "            //We have a point geometry\n",
    "            zeroes.push(feat);\n",
    "            zero_feats += feat.properties.tweets.length\n",
    "        }else{\n",
    "            count++;\n",
    "            feat.properties.area = Math.floor(area)\n",
    "            newFeatures.push(feat)\n",
    "            tweets+= feat.properties.tweets.length            \n",
    "        }\n",
    "    }else{\n",
    "        dismissed++;\n",
    "        dismissedTweets += feat.properties.tweets.length\n",
    "    }\n",
    "})\n",
    "console.log(\"Features kept: \" + count +\", tweets: \" + tweets + \", dismissed: \" + dismissed + \" with \" + dismissedTweets + \" tweets\")\n",
    "console.log(\"Zeroes counted \" + zeroes.length +\", tweets: \" + zero_feats);\n",
    "null"
   ]
  },
  {
   "cell_type": "markdown",
   "metadata": {},
   "source": [
    "Write these features to disk"
   ]
  },
  {
   "cell_type": "code",
   "execution_count": 27,
   "metadata": {
    "collapsed": false
   },
   "outputs": [
    {
     "data": {
      "text/plain": [
       "'Wrote polygon geojson with 4521 polygons.'"
      ]
     },
     "execution_count": 27,
     "metadata": {},
     "output_type": "execute_result"
    }
   ],
   "source": [
    "var newFC = {type: \"FeatureCollection\",features: _.sortBy(newFeatures.concat(zeroes),function(f){return -f.properties.area})}\n",
    "fs.writeFileSync(config.web_root + '/polygon-features.geojson', JSON.stringify(newFC))\n",
    "\n",
    "\"Wrote polygon geojson with \" + newFC.features.length + \" polygons.\""
   ]
  },
  {
   "cell_type": "markdown",
   "metadata": {},
   "source": [
    "## Create point geometries"
   ]
  },
  {
   "cell_type": "code",
   "execution_count": 28,
   "metadata": {
    "collapsed": false
   },
   "outputs": [
    {
     "data": {
      "text/plain": [
       "'Created 4521 point geometries.'"
      ]
     },
     "execution_count": 28,
     "metadata": {},
     "output_type": "execute_result"
    }
   ],
   "source": [
    "newFC.features.forEach(function(feat){\n",
    "    var center = turf.center(feat.geometry)\n",
    "    feat.properties.poly = JSON.stringify(feat.geometry)\n",
    "    feat.geometry = center.geometry\n",
    "})\n",
    "\"Created \" + newFC.features.length + \" point geometries.\""
   ]
  },
  {
   "cell_type": "code",
   "execution_count": 29,
   "metadata": {
    "collapsed": false
   },
   "outputs": [
    {
     "data": {
      "text/plain": [
       "'Wrote point feature collection geojson without tweets.'"
      ]
     },
     "execution_count": 29,
     "metadata": {},
     "output_type": "execute_result"
    }
   ],
   "source": [
    "fs.writeFileSync(config.web_root + '/polygon-centers-with-tweets.geojson', JSON.stringify(newFC))\n",
    "\"Wrote point feature collection geojson without tweets.\""
   ]
  },
  {
   "cell_type": "markdown",
   "metadata": {},
   "source": [
    "## Create point geometries for EVERY Tweet"
   ]
  },
  {
   "cell_type": "code",
   "execution_count": 30,
   "metadata": {
    "collapsed": false
   },
   "outputs": [
    {
     "data": {
      "text/plain": [
       "null"
      ]
     },
     "execution_count": 30,
     "metadata": {},
     "output_type": "execute_result"
    }
   ],
   "source": [
    "fcTmp = JSON.parse(JSON.stringify(newFC)); null"
   ]
  },
  {
   "cell_type": "code",
   "execution_count": 31,
   "metadata": {
    "collapsed": false
   },
   "outputs": [
    {
     "data": {
      "text/plain": [
       "undefined"
      ]
     },
     "execution_count": 31,
     "metadata": {},
     "output_type": "execute_result"
    }
   ],
   "source": [
    "var pt_tweets = []\n",
    "fcTmp.features.forEach(function(pointWithFeatures){\n",
    "    pointWithFeatures.properties.tweets.forEach(function(tweet){\n",
    "        tweet.area = pointWithFeatures.properties.area\n",
    "        pt_tweets.push({\n",
    "            type: \"Feature\",\n",
    "            properties: tweet,\n",
    "            geometry: pointWithFeatures.geometry\n",
    "        })\n",
    "    })\n",
    "})"
   ]
  },
  {
   "cell_type": "code",
   "execution_count": 32,
   "metadata": {
    "collapsed": false
   },
   "outputs": [
    {
     "data": {
      "text/plain": [
       "23711"
      ]
     },
     "execution_count": 32,
     "metadata": {},
     "output_type": "execute_result"
    }
   ],
   "source": [
    "pt_tweets.length;"
   ]
  },
  {
   "cell_type": "code",
   "execution_count": 33,
   "metadata": {
    "collapsed": false
   },
   "outputs": [
    {
     "data": {
      "text/plain": [
       "'Wrote point feature collection (POINT PER TWEET) geojson with 23711 tweets.'"
      ]
     },
     "execution_count": 33,
     "metadata": {},
     "output_type": "execute_result"
    }
   ],
   "source": [
    "fs.writeFileSync(config.web_root + '/polygon-tweets-individual-points.geojson', JSON.stringify({'type':'FeatureCollection','features':pt_tweets}))\n",
    "\"Wrote point feature collection (POINT PER TWEET) geojson with \" + pt_tweets.length + \" tweets.\""
   ]
  },
  {
   "cell_type": "markdown",
   "metadata": {},
   "source": [
    "## Create point geometries WITHOUT tweets"
   ]
  },
  {
   "cell_type": "code",
   "execution_count": 38,
   "metadata": {
    "collapsed": false
   },
   "outputs": [
    {
     "data": {
      "text/plain": [
       "'Wrote point feature collection geojson with 4521 tweets.'"
      ]
     },
     "execution_count": 38,
     "metadata": {},
     "output_type": "execute_result"
    }
   ],
   "source": [
    "newFC.features.forEach(function(feat){\n",
    "    delete feat.properties.tweets\n",
    "})\n",
    "fs.writeFileSync(config.web_root + '/polygon-centers-no-tweets.geojson', JSON.stringify(newFC))\n",
    "\"Wrote point feature collection geojson with \" + newFC.features.length + \" tweets.\""
   ]
  }
 ],
 "metadata": {
  "kernelspec": {
   "display_name": "Javascript (Node.js)",
   "language": "javascript",
   "name": "javascript"
  },
  "language_info": {
   "file_extension": ".js",
   "mimetype": "application/javascript",
   "name": "javascript",
   "version": "6.10.2"
  }
 },
 "nbformat": 4,
 "nbformat_minor": 1
}
