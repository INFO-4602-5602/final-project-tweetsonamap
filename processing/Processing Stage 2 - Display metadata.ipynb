{
 "cells": [
  {
   "cell_type": "markdown",
   "metadata": {},
   "source": [
    "# Stage 2: Display Metadata\n",
    "\n",
    "Given the vast differences in the geometries between different polygons (and the fact that each one is a boring, boring square, this notebook will enrich it with metadata based on the size of the box?"
   ]
  },
  {
   "cell_type": "code",
   "execution_count": 69,
   "metadata": {
    "collapsed": false
   },
   "outputs": [
    {
     "data": {
      "text/plain": [
       "undefined"
      ]
     },
     "execution_count": 69,
     "metadata": {},
     "output_type": "execute_result"
    }
   ],
   "source": [
    "var turf = require('turf')\n",
    "var fs = require('fs')\n",
    "var _ = require('lodash')"
   ]
  },
  {
   "cell_type": "code",
   "execution_count": 2,
   "metadata": {
    "collapsed": false
   },
   "outputs": [
    {
     "data": {
      "text/plain": [
       "4525"
      ]
     },
     "execution_count": 2,
     "metadata": {},
     "output_type": "execute_result"
    }
   ],
   "source": [
    "fc = JSON.parse(fs.readFileSync('/data/www/jennings/infovis/image-tweets-by-polygon.geojson'))\n",
    "fc.features.length;"
   ]
  },
  {
   "cell_type": "code",
   "execution_count": 6,
   "metadata": {
    "collapsed": false
   },
   "outputs": [
    {
     "data": {
      "text/plain": [
       "4525"
      ]
     },
     "execution_count": 6,
     "metadata": {},
     "output_type": "execute_result"
    }
   ],
   "source": [
    "fc2 = JSON.parse(JSON.stringify(fc))\n",
    "fc2.features.length"
   ]
  },
  {
   "cell_type": "code",
   "execution_count": 64,
   "metadata": {
    "collapsed": false
   },
   "outputs": [
    {
     "data": {
      "text/plain": [
       "undefined"
      ]
     },
     "execution_count": 64,
     "metadata": {},
     "output_type": "execute_result"
    }
   ],
   "source": [
    "var maxZooms = {\n",
    "    40000 : 4.5,\n",
    "    20000 : 8.5,\n",
    "    10000 : 10\n",
    "}"
   ]
  },
  {
   "cell_type": "code",
   "execution_count": 74,
   "metadata": {
    "collapsed": false
   },
   "outputs": [
    {
     "name": "stdout",
     "output_type": "stream",
     "text": [
      "997 3455 3 69\n"
     ]
    },
    {
     "data": {
      "text/plain": [
       "undefined"
      ]
     },
     "execution_count": 74,
     "metadata": {},
     "output_type": "execute_result"
    }
   ],
   "source": [
    "var newFeatures = []\n",
    "\n",
    "var count=0\n",
    "var zeroes=0\n",
    "var zero_feats = 0;\n",
    "var tweets = 0;\n",
    "fc2.features.slice(0,1000).forEach(function(feat){\n",
    "    var area = Math.floor(turf.area(feat.geometry)/1000000)\n",
    "    //That's square meters\n",
    "    if (area < 9999999){\n",
    "//         if (area < 500){\n",
    "            count++;\n",
    "            feat.properties.area = Math.floor(area)\n",
    "            newFeatures.push(feat)\n",
    "            tweets+= feat.properties.tweets.length\n",
    "//         }\n",
    "    }else{\n",
    "        zeroes ++;\n",
    "        zero_feats += feat.properties.tweets.length\n",
    "    }\n",
    "})\n",
    "console.log(count, tweets, zeroes, zero_feats)"
   ]
  },
  {
   "cell_type": "code",
   "execution_count": 78,
   "metadata": {
    "collapsed": false
   },
   "outputs": [
    {
     "data": {
      "text/plain": [
       "null"
      ]
     },
     "execution_count": 78,
     "metadata": {},
     "output_type": "execute_result"
    }
   ],
   "source": [
    "newFC = {type: \"FeatureCollection\",features: _.sortBy(newFeatures,function(f){return -f.properties.area})}\n",
    "null"
   ]
  },
  {
   "cell_type": "code",
   "execution_count": 79,
   "metadata": {
    "collapsed": false
   },
   "outputs": [
    {
     "data": {
      "text/plain": [
       "undefined"
      ]
     },
     "execution_count": 79,
     "metadata": {},
     "output_type": "execute_result"
    }
   ],
   "source": [
    "fs.writeFileSync('/data/www/jennings/infovis/poly-full.geojson', JSON.stringify(newFC))"
   ]
  },
  {
   "cell_type": "code",
   "execution_count": null,
   "metadata": {
    "collapsed": true
   },
   "outputs": [],
   "source": []
  }
 ],
 "metadata": {
  "kernelspec": {
   "display_name": "Javascript (Node.js)",
   "language": "javascript",
   "name": "javascript"
  },
  "language_info": {
   "file_extension": ".js",
   "mimetype": "application/javascript",
   "name": "javascript",
   "version": "6.10.2"
  }
 },
 "nbformat": 4,
 "nbformat_minor": 1
}
