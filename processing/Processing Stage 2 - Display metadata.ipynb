{
 "cells": [
  {
   "cell_type": "markdown",
   "metadata": {},
   "source": [
    "# Stage 2: Filter by Metadata & Process Points\n",
    "\n",
    "Given the geojsons created in step 1, process these into new geojson files with point data.\n",
    "\n",
    "(This process is moved over here because node allows us to use turf)"
   ]
  },
  {
   "cell_type": "code",
   "execution_count": 1,
   "metadata": {
    "collapsed": false
   },
   "outputs": [
    {
     "data": {
      "text/plain": [
       "undefined"
      ]
     },
     "execution_count": 1,
     "metadata": {},
     "output_type": "execute_result"
    }
   ],
   "source": [
    "var turf = require('turf')\n",
    "var fs = require('fs')\n",
    "var _ = require('lodash')"
   ]
  },
  {
   "cell_type": "code",
   "execution_count": 2,
   "metadata": {
    "collapsed": false
   },
   "outputs": [
    {
     "data": {
      "text/plain": [
       "{ client: 'epic-analytics.cs.colorado.edu',\n",
       "  database: 'matthew',\n",
       "  collection: 'tweets',\n",
       "  web_root: '/data/www/jennings/infovis' }"
      ]
     },
     "execution_count": 2,
     "metadata": {},
     "output_type": "execute_result"
    }
   ],
   "source": [
    "var config = JSON.parse(fs.readFileSync('./tweets-on-a-map.config'))\n",
    "config"
   ]
  },
  {
   "cell_type": "code",
   "execution_count": 3,
   "metadata": {
    "collapsed": false
   },
   "outputs": [
    {
     "data": {
      "text/plain": [
       "4525"
      ]
     },
     "execution_count": 3,
     "metadata": {},
     "output_type": "execute_result"
    }
   ],
   "source": [
    "var fc = JSON.parse(fs.readFileSync(config.web_root + \"/image-tweets-by-polygon.geojson\"))\n",
    "fc.features.length;"
   ]
  },
  {
   "cell_type": "code",
   "execution_count": 4,
   "metadata": {
    "collapsed": false
   },
   "outputs": [
    {
     "name": "stdout",
     "output_type": "stream",
     "text": [
      "Features kept: 3563, tweets: 22582, dismissed: 4 with 78 tweets\n",
      "Zeroes counted 958, tweets: 1129\n"
     ]
    },
    {
     "data": {
      "text/plain": [
       "null"
      ]
     },
     "execution_count": 4,
     "metadata": {},
     "output_type": "execute_result"
    }
   ],
   "source": [
    "var newFeatures = []\n",
    "var count       = 0\n",
    "var zeroes      = []\n",
    "var zero_feats  = 0;\n",
    "var tweets      = 0;\n",
    "var dismissed   = 0;\n",
    "var dismissedTweets = 0;\n",
    "\n",
    "fc.features.forEach(function(feat){\n",
    "    var area = Math.floor(turf.area(feat.geometry)/1000000) //Area is in square kilometers\n",
    "    \n",
    "    if (area < 9999999){ //Empirically chosen as a limit because otherwise the areas don't make sense :) \n",
    "        if (area==0){\n",
    "            //We have a point geometry\n",
    "            zeroes.push(feat);\n",
    "            zero_feats += feat.properties.tweets.length\n",
    "        }else{\n",
    "            count++;\n",
    "            feat.properties.area = Math.floor(area)\n",
    "            newFeatures.push(feat)\n",
    "            tweets+= feat.properties.tweets.length            \n",
    "        }\n",
    "    }else{\n",
    "        dismissed++;\n",
    "        dismissedTweets += feat.properties.tweets.length\n",
    "    }\n",
    "})\n",
    "console.log(\"Features kept: \" + count +\", tweets: \" + tweets + \", dismissed: \" + dismissed + \" with \" + dismissedTweets + \" tweets\")\n",
    "console.log(\"Zeroes counted \" + zeroes.length +\", tweets: \" + zero_feats);\n",
    "null"
   ]
  },
  {
   "cell_type": "markdown",
   "metadata": {},
   "source": [
    "Write these features to disk"
   ]
  },
  {
   "cell_type": "code",
   "execution_count": 5,
   "metadata": {
    "collapsed": false
   },
   "outputs": [
    {
     "data": {
      "text/plain": [
       "'Wrote polygon geojson with 4521 tweets.'"
      ]
     },
     "execution_count": 5,
     "metadata": {},
     "output_type": "execute_result"
    }
   ],
   "source": [
    "var newFC = {type: \"FeatureCollection\",features: _.sortBy(newFeatures.concat(zeroes),function(f){return -f.properties.area})}\n",
    "fs.writeFileSync(config.web_root + 'polygon-features.geojson', JSON.stringify(newFC))\n",
    "\n",
    "\"Wrote polygon geojson with \" + newFC.features.length + \" tweets.\""
   ]
  },
  {
   "cell_type": "markdown",
   "metadata": {},
   "source": [
    "## Create point geometries"
   ]
  },
  {
   "cell_type": "code",
   "execution_count": 6,
   "metadata": {
    "collapsed": false
   },
   "outputs": [
    {
     "data": {
      "text/plain": [
       "'Created 4521 point geometries.'"
      ]
     },
     "execution_count": 6,
     "metadata": {},
     "output_type": "execute_result"
    }
   ],
   "source": [
    "newFC.features.forEach(function(feat){\n",
    "    var center = turf.center(feat.geometry)\n",
    "    feat.properties.poly = JSON.stringify(feat.geometry)\n",
    "    feat.geometry = center.geometry\n",
    "})\n",
    "\"Created \" + newFC.features.length + \" point geometries.\""
   ]
  },
  {
   "cell_type": "code",
   "execution_count": 7,
   "metadata": {
    "collapsed": false
   },
   "outputs": [
    {
     "data": {
      "text/plain": [
       "'Wrote point feature collection geojson without tweets.'"
      ]
     },
     "execution_count": 7,
     "metadata": {},
     "output_type": "execute_result"
    }
   ],
   "source": [
    "fs.writeFileSync(config.web_root + '/polygon-centers-with-tweets.geojson', JSON.stringify(newFC))\n",
    "\"Wrote point feature collection geojson without tweets.\""
   ]
  },
  {
   "cell_type": "code",
   "execution_count": 8,
   "metadata": {
    "collapsed": false
   },
   "outputs": [
    {
     "data": {
      "text/plain": [
       "'Wrote point feature collection geojson with 4521 tweets.'"
      ]
     },
     "execution_count": 8,
     "metadata": {},
     "output_type": "execute_result"
    }
   ],
   "source": [
    "newFC.features.forEach(function(feat){\n",
    "    delete feat.properties.tweets\n",
    "})\n",
    "fs.writeFileSync(config.web_root + '/polygon-centers-no-tweets.geojson', JSON.stringify(newFC))\n",
    "\"Wrote point feature collection geojson with \" + newFC.features.length + \" tweets.\""
   ]
  }
 ],
 "metadata": {
  "kernelspec": {
   "display_name": "Javascript (Node.js)",
   "language": "javascript",
   "name": "javascript"
  },
  "language_info": {
   "file_extension": ".js",
   "mimetype": "application/javascript",
   "name": "javascript",
   "version": "6.10.2"
  }
 },
 "nbformat": 4,
 "nbformat_minor": 1
}
