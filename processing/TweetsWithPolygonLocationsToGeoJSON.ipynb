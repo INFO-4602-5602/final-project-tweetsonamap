{
 "cells": [
  {
   "cell_type": "markdown",
   "metadata": {},
   "source": [
    "# Converting geotagged tweets to GEOJSON\n",
    "(Reference: https://github.com/INFO-4602-5602/final-project-tweetsonamap/issues/4)"
   ]
  },
  {
   "cell_type": "code",
   "execution_count": 211,
   "metadata": {
    "collapsed": false
   },
   "outputs": [],
   "source": [
    "import pymongo, json, pprint, urllib.request, os.path, sys\n",
    "import pandas as pd"
   ]
  },
  {
   "cell_type": "markdown",
   "metadata": {},
   "source": [
    "Connect to the DB\n",
    "\n",
    "    client = pymongo.MongoClient('mongodb://epic-analytics.cs.colorado.edu')\n",
    "    db = client.matthew\n",
    "    print(db.collection_names())\n",
    "    tweets = db.tweets\n",
    "    print(tweets.count(), \"tweets\")"
   ]
  },
  {
   "cell_type": "markdown",
   "metadata": {},
   "source": [
    "Where are the thumbnail images stored?"
   ]
  },
  {
   "cell_type": "code",
   "execution_count": 3,
   "metadata": {
    "collapsed": true
   },
   "outputs": [],
   "source": [
    "thumbnail_prefix = \"http://epic-analytics.cs.colorado.edu:9000/jennings/infovis/map_images/\""
   ]
  },
  {
   "cell_type": "code",
   "execution_count": 212,
   "metadata": {
    "collapsed": false
   },
   "outputs": [],
   "source": [
    "client = pymongo.MongoClient('localhost')\n",
    "tweets = client['matthew'].tweets"
   ]
  },
  {
   "cell_type": "markdown",
   "metadata": {},
   "source": [
    "### Example: Point Locations"
   ]
  },
  {
   "cell_type": "raw",
   "metadata": {
    "collapsed": false,
    "scrolled": false
   },
   "source": [
    "cursor = tweets.find({'geo' : {\"$exists\":True}}).batch_size(100)\n",
    "idx = 0;\n",
    "feats = []\n",
    "for t in cursor:\n",
    "    tweet_id = t['id'].split(\":\")[2]\n",
    "    if os.path.exists(\"/data/www/jennings/infovis/map_images/\"+tweet_id+\".jpg\"):\n",
    "        jsonObj = { \"type\" : \"Feature\",\n",
    "                 \"geometry\" : {\"type\" : \"Point\", \"coordinates\" : list(reversed(t['geo']['coordinates']))},\n",
    "                 \"properties\" : {  \"id\" : tweet_id,\n",
    "                                   \"thumb\": thumbnail_prefix + tweet_id+\".jpg\",\n",
    "                                   \"user\" : t['actor']['preferredUsername'],\n",
    "                                   \"text\" : t['body'],\n",
    "                                   \"time\" : 10, #Stubbed,\n",
    "                                   \"topic\" : 1 #Stubbed\n",
    "           }\n",
    "         }\n",
    "        feats.append(jsonObj)\n",
    "        idx+=1;\n",
    "    sys.stderr.write(\"\\r\"+str(idx))\n",
    "\n",
    "with open('/data/www/jennings/infovis/geo-points.geojson','w') as outFile:\n",
    "    json.dump({'type':\"FeatureCollection\",\"features\":feats},outFile)"
   ]
  },
  {
   "cell_type": "markdown",
   "metadata": {},
   "source": [
    "# `Location` tag, not point locations\n",
    "\n",
    "1. Query for just tweets with images (photos) and a `location.geo` field then put them into a dataframe"
   ]
  },
  {
   "cell_type": "code",
   "execution_count": 214,
   "metadata": {
    "collapsed": false
   },
   "outputs": [],
   "source": [
    "geo_image_tweets = {\n",
    "    \"verb\":\"post\",\n",
    "    \"twitter_extended_entities.media.0\":{\"$exists\":True}, # at least 1 media entity\n",
    "    \"twitter_extended_entities.media\": {\"$all\":[{\"$elemMatch\": { \"type\": \"photo\" }}]}, # all media entities are photos\n",
    "    \"location.geo.coordinates\":{\"$exists\":True} # has geolocation (not necessarily a point)\n",
    "}\n",
    "df = pd.DataFrame(list(tweets.find(geo_image_tweets)))"
   ]
  },
  {
   "cell_type": "markdown",
   "metadata": {},
   "source": [
    "Check that this worked?"
   ]
  },
  {
   "cell_type": "code",
   "execution_count": 216,
   "metadata": {
    "collapsed": false
   },
   "outputs": [
    {
     "name": "stdout",
     "output_type": "stream",
     "text": [
      "23789\n"
     ]
    },
    {
     "data": {
      "text/html": [
       "<div>\n",
       "<table border=\"1\" class=\"dataframe\">\n",
       "  <thead>\n",
       "    <tr style=\"text-align: right;\">\n",
       "      <th></th>\n",
       "      <th>_id</th>\n",
       "      <th>actor</th>\n",
       "      <th>body</th>\n",
       "      <th>datetime</th>\n",
       "      <th>display_text_range</th>\n",
       "      <th>favoritesCount</th>\n",
       "      <th>generator</th>\n",
       "      <th>geo</th>\n",
       "      <th>gnip</th>\n",
       "      <th>id</th>\n",
       "      <th>...</th>\n",
       "      <th>object</th>\n",
       "      <th>objectType</th>\n",
       "      <th>postedTime</th>\n",
       "      <th>provider</th>\n",
       "      <th>retweetCount</th>\n",
       "      <th>twitter_entities</th>\n",
       "      <th>twitter_extended_entities</th>\n",
       "      <th>twitter_filter_level</th>\n",
       "      <th>twitter_lang</th>\n",
       "      <th>verb</th>\n",
       "    </tr>\n",
       "  </thead>\n",
       "  <tbody>\n",
       "    <tr>\n",
       "      <th>0</th>\n",
       "      <td>58c1e007d8991e9a470000a9</td>\n",
       "      <td>{'links': [{'rel': 'me', 'href': None}], 'pref...</td>\n",
       "      <td>Mood: 3 months from now when we touchdown in J...</td>\n",
       "      <td>{'$date': 1474761687000}</td>\n",
       "      <td>[0, 70]</td>\n",
       "      <td>0</td>\n",
       "      <td>{'displayName': 'Twitter for iPhone', 'link': ...</td>\n",
       "      <td>NaN</td>\n",
       "      <td>{'matching_rules': [{'id': 9056142625283655206...</td>\n",
       "      <td>tag:search.twitter.com,2005:779833156773871616</td>\n",
       "      <td>...</td>\n",
       "      <td>{'summary': 'Mood: 3 months from now when we t...</td>\n",
       "      <td>activity</td>\n",
       "      <td>2016-09-25 00:01:27</td>\n",
       "      <td>{'link': 'http://www.twitter.com', 'displayNam...</td>\n",
       "      <td>0</td>\n",
       "      <td>{'symbols': [], 'media': [{'type': 'photo', 'i...</td>\n",
       "      <td>{'media': [{'type': 'photo', 'id_str': '779833...</td>\n",
       "      <td>low</td>\n",
       "      <td>en</td>\n",
       "      <td>post</td>\n",
       "    </tr>\n",
       "    <tr>\n",
       "      <th>1</th>\n",
       "      <td>58c1e008d8991e9a470001cc</td>\n",
       "      <td>{'links': [{'rel': 'me', 'href': 'https://m.fa...</td>\n",
       "      <td>ACTUALIZACIÓN \\nBoletín 8pm \\nEl CNH aumenta a...</td>\n",
       "      <td>{'$date': 1474761856000}</td>\n",
       "      <td>[0, 116]</td>\n",
       "      <td>0</td>\n",
       "      <td>{'displayName': 'Twitter for Android', 'link':...</td>\n",
       "      <td>NaN</td>\n",
       "      <td>{'matching_rules': [{'id': 2199701286811376328...</td>\n",
       "      <td>tag:search.twitter.com,2005:779833865082843136</td>\n",
       "      <td>...</td>\n",
       "      <td>{'summary': 'ACTUALIZACIÓN \n",
       "Boletín 8pm \n",
       "El CN...</td>\n",
       "      <td>activity</td>\n",
       "      <td>2016-09-25 00:04:16</td>\n",
       "      <td>{'link': 'http://www.twitter.com', 'displayNam...</td>\n",
       "      <td>0</td>\n",
       "      <td>{'symbols': [], 'media': [{'type': 'photo', 'i...</td>\n",
       "      <td>{'media': [{'type': 'photo', 'id_str': '779833...</td>\n",
       "      <td>low</td>\n",
       "      <td>es</td>\n",
       "      <td>post</td>\n",
       "    </tr>\n",
       "  </tbody>\n",
       "</table>\n",
       "<p>2 rows × 23 columns</p>\n",
       "</div>"
      ],
      "text/plain": [
       "                        _id  \\\n",
       "0  58c1e007d8991e9a470000a9   \n",
       "1  58c1e008d8991e9a470001cc   \n",
       "\n",
       "                                               actor  \\\n",
       "0  {'links': [{'rel': 'me', 'href': None}], 'pref...   \n",
       "1  {'links': [{'rel': 'me', 'href': 'https://m.fa...   \n",
       "\n",
       "                                                body  \\\n",
       "0  Mood: 3 months from now when we touchdown in J...   \n",
       "1  ACTUALIZACIÓN \\nBoletín 8pm \\nEl CNH aumenta a...   \n",
       "\n",
       "                   datetime display_text_range  favoritesCount  \\\n",
       "0  {'$date': 1474761687000}            [0, 70]               0   \n",
       "1  {'$date': 1474761856000}           [0, 116]               0   \n",
       "\n",
       "                                           generator  geo  \\\n",
       "0  {'displayName': 'Twitter for iPhone', 'link': ...  NaN   \n",
       "1  {'displayName': 'Twitter for Android', 'link':...  NaN   \n",
       "\n",
       "                                                gnip  \\\n",
       "0  {'matching_rules': [{'id': 9056142625283655206...   \n",
       "1  {'matching_rules': [{'id': 2199701286811376328...   \n",
       "\n",
       "                                               id  ...   \\\n",
       "0  tag:search.twitter.com,2005:779833156773871616  ...    \n",
       "1  tag:search.twitter.com,2005:779833865082843136  ...    \n",
       "\n",
       "                                              object objectType  \\\n",
       "0  {'summary': 'Mood: 3 months from now when we t...   activity   \n",
       "1  {'summary': 'ACTUALIZACIÓN \n",
       "Boletín 8pm \n",
       "El CN...   activity   \n",
       "\n",
       "           postedTime                                           provider  \\\n",
       "0 2016-09-25 00:01:27  {'link': 'http://www.twitter.com', 'displayNam...   \n",
       "1 2016-09-25 00:04:16  {'link': 'http://www.twitter.com', 'displayNam...   \n",
       "\n",
       "  retweetCount                                   twitter_entities  \\\n",
       "0            0  {'symbols': [], 'media': [{'type': 'photo', 'i...   \n",
       "1            0  {'symbols': [], 'media': [{'type': 'photo', 'i...   \n",
       "\n",
       "                           twitter_extended_entities  twitter_filter_level  \\\n",
       "0  {'media': [{'type': 'photo', 'id_str': '779833...                   low   \n",
       "1  {'media': [{'type': 'photo', 'id_str': '779833...                   low   \n",
       "\n",
       "  twitter_lang  verb  \n",
       "0           en  post  \n",
       "1           es  post  \n",
       "\n",
       "[2 rows x 23 columns]"
      ]
     },
     "execution_count": 216,
     "metadata": {},
     "output_type": "execute_result"
    }
   ],
   "source": [
    "print(len(df))\n",
    "df.head(2)"
   ]
  },
  {
   "cell_type": "markdown",
   "metadata": {},
   "source": [
    "Create something to group by on"
   ]
  },
  {
   "cell_type": "code",
   "execution_count": 217,
   "metadata": {
    "collapsed": false
   },
   "outputs": [],
   "source": [
    "df['location_string'] = df.location.apply(lambda x: str(x['geo']['coordinates']))"
   ]
  },
  {
   "cell_type": "markdown",
   "metadata": {},
   "source": [
    "Now group by Geometries. This method is okay because order is preserved with rows in between groups \n",
    "http://stackoverflow.com/questions/26456125/python-pandas-is-order-preserved-when-using-groupby-and-agg\n"
   ]
  },
  {
   "cell_type": "code",
   "execution_count": 218,
   "metadata": {
    "collapsed": false
   },
   "outputs": [],
   "source": [
    "gb_loc = df.groupby('location_string').aggregate({\n",
    "        'id' : {\n",
    "            'Tweets' : 'count',\n",
    "            'IDs'    : lambda x: [y.split(\":\")[2] for y in x.values]\n",
    "         },\n",
    "        'body': {\n",
    "            'text'   : lambda x: [y for y in x.values]\n",
    "         },\n",
    "        'postedTime' : {\n",
    "            'time'   : lambda x: [str(y) for y in x.values]\n",
    "         },\n",
    "        'actor'      : {\n",
    "            'user'   : lambda x: [y['preferredUsername'] for y in x.values]\n",
    "         },\n",
    "        'location' : {\n",
    "            'geojson'     : lambda x: x.values[0]['geo'],\n",
    "            'displayName' : lambda x: x.values[0]['displayName']\n",
    "         }\n",
    "    })\n",
    "gb_loc.columns = gb_loc.columns.droplevel()"
   ]
  },
  {
   "cell_type": "markdown",
   "metadata": {},
   "source": [
    "Check that this worked?"
   ]
  },
  {
   "cell_type": "code",
   "execution_count": 219,
   "metadata": {
    "collapsed": false
   },
   "outputs": [
    {
     "data": {
      "text/html": [
       "<div>\n",
       "<table border=\"1\" class=\"dataframe\">\n",
       "  <thead>\n",
       "    <tr style=\"text-align: right;\">\n",
       "      <th></th>\n",
       "      <th>user</th>\n",
       "      <th>IDs</th>\n",
       "      <th>Tweets</th>\n",
       "      <th>text</th>\n",
       "      <th>displayName</th>\n",
       "      <th>geojson</th>\n",
       "      <th>time</th>\n",
       "    </tr>\n",
       "    <tr>\n",
       "      <th>location_string</th>\n",
       "      <th></th>\n",
       "      <th></th>\n",
       "      <th></th>\n",
       "      <th></th>\n",
       "      <th></th>\n",
       "      <th></th>\n",
       "      <th></th>\n",
       "    </tr>\n",
       "  </thead>\n",
       "  <tbody>\n",
       "    <tr>\n",
       "      <th>[[[-87.634643, 24.396308], [-87.634643, 31.001056], [-79.974307, 31.001056], [-79.974307, 24.396308]]]</th>\n",
       "      <td>[TheWxReporter, karadapena, EricaABryan, hanna...</td>\n",
       "      <td>[780024297909653504, 780103153597423616, 78013...</td>\n",
       "      <td>1419</td>\n",
       "      <td>[9/25/2016 8:00 AM EDT Tropical Weather Update...</td>\n",
       "      <td>Florida, USA</td>\n",
       "      <td>{'type': 'Polygon', 'coordinates': [[[-87.6346...</td>\n",
       "      <td>[2016-09-25T12:40:59.000000000, 2016-09-25T17:...</td>\n",
       "    </tr>\n",
       "    <tr>\n",
       "      <th>[[[-84.952008, 19.82646], [-84.952008, 23.594925], [-74.131649, 23.594925], [-74.131649, 19.82646]]]</th>\n",
       "      <td>[benq_09, KarelBecerra, KarelBecerra, JLucasMo...</td>\n",
       "      <td>[779838282410528768, 779845609415118849, 77984...</td>\n",
       "      <td>958</td>\n",
       "      <td>[Seguimos..! Camagüey, cuba! https://t.co/HxkA...</td>\n",
       "      <td>Cuba</td>\n",
       "      <td>{'type': 'Polygon', 'coordinates': [[[-84.9520...</td>\n",
       "      <td>[2016-09-25T00:21:49.000000000, 2016-09-25T00:...</td>\n",
       "    </tr>\n",
       "  </tbody>\n",
       "</table>\n",
       "</div>"
      ],
      "text/plain": [
       "                                                                                                 user  \\\n",
       "location_string                                                                                         \n",
       "[[[-87.634643, 24.396308], [-87.634643, 31.0010...  [TheWxReporter, karadapena, EricaABryan, hanna...   \n",
       "[[[-84.952008, 19.82646], [-84.952008, 23.59492...  [benq_09, KarelBecerra, KarelBecerra, JLucasMo...   \n",
       "\n",
       "                                                                                                  IDs  \\\n",
       "location_string                                                                                         \n",
       "[[[-87.634643, 24.396308], [-87.634643, 31.0010...  [780024297909653504, 780103153597423616, 78013...   \n",
       "[[[-84.952008, 19.82646], [-84.952008, 23.59492...  [779838282410528768, 779845609415118849, 77984...   \n",
       "\n",
       "                                                    Tweets  \\\n",
       "location_string                                              \n",
       "[[[-87.634643, 24.396308], [-87.634643, 31.0010...    1419   \n",
       "[[[-84.952008, 19.82646], [-84.952008, 23.59492...     958   \n",
       "\n",
       "                                                                                                 text  \\\n",
       "location_string                                                                                         \n",
       "[[[-87.634643, 24.396308], [-87.634643, 31.0010...  [9/25/2016 8:00 AM EDT Tropical Weather Update...   \n",
       "[[[-84.952008, 19.82646], [-84.952008, 23.59492...  [Seguimos..! Camagüey, cuba! https://t.co/HxkA...   \n",
       "\n",
       "                                                     displayName  \\\n",
       "location_string                                                    \n",
       "[[[-87.634643, 24.396308], [-87.634643, 31.0010...  Florida, USA   \n",
       "[[[-84.952008, 19.82646], [-84.952008, 23.59492...          Cuba   \n",
       "\n",
       "                                                                                              geojson  \\\n",
       "location_string                                                                                         \n",
       "[[[-87.634643, 24.396308], [-87.634643, 31.0010...  {'type': 'Polygon', 'coordinates': [[[-87.6346...   \n",
       "[[[-84.952008, 19.82646], [-84.952008, 23.59492...  {'type': 'Polygon', 'coordinates': [[[-84.9520...   \n",
       "\n",
       "                                                                                                 time  \n",
       "location_string                                                                                        \n",
       "[[[-87.634643, 24.396308], [-87.634643, 31.0010...  [2016-09-25T12:40:59.000000000, 2016-09-25T17:...  \n",
       "[[[-84.952008, 19.82646], [-84.952008, 23.59492...  [2016-09-25T00:21:49.000000000, 2016-09-25T00:...  "
      ]
     },
     "execution_count": 219,
     "metadata": {},
     "output_type": "execute_result"
    }
   ],
   "source": [
    "gb_loc.sort_values(by='Tweets', ascending=False).head(2)"
   ]
  },
  {
   "cell_type": "markdown",
   "metadata": {},
   "source": [
    "Now build GeoJSON Objects for each region"
   ]
  },
  {
   "cell_type": "code",
   "execution_count": 220,
   "metadata": {
    "collapsed": false
   },
   "outputs": [],
   "source": [
    "regions = []\n",
    "for idx, row in gb_loc.copy().iterrows():\n",
    "    \n",
    "    json_obj = {'type':'Feature',\n",
    "                'properties' : {\n",
    "                        'count'       : row['Tweets'],\n",
    "                        'tweets'      : [],\n",
    "                        'displayName' : row['displayName']\n",
    "                },\n",
    "                'geometry'  : row['geojson']\n",
    "               }\n",
    "    \n",
    "    #Stupid Twitter\n",
    "    json_obj['geometry']['coordinates'][0].append(json_obj['geometry']['coordinates'][0][0])\n",
    "    \n",
    "    for idx, tweet_id in enumerate(row['IDs']):\n",
    "        \n",
    "        json_obj['properties']['tweets'].append({\n",
    "                'id': tweet_id,\n",
    "                'thumb': thumbnail_prefix + tweet_id + '.jpg',\n",
    "                'text': row['text'][idx],\n",
    "                'user': row['user'][idx],\n",
    "                'time': row['time'][idx]\n",
    "            })\n",
    "        \n",
    "    regions.append(json_obj)"
   ]
  },
  {
   "cell_type": "markdown",
   "metadata": {},
   "source": [
    "Store this as a geojson feature collection"
   ]
  },
  {
   "cell_type": "code",
   "execution_count": 222,
   "metadata": {
    "collapsed": true
   },
   "outputs": [],
   "source": [
    "geojson_feature_collection = {'type':\"FeatureCollection\", \"features\" : regions}"
   ]
  },
  {
   "cell_type": "markdown",
   "metadata": {},
   "source": [
    "Write this feature collection to disk"
   ]
  },
  {
   "cell_type": "code",
   "execution_count": 223,
   "metadata": {
    "collapsed": false
   },
   "outputs": [],
   "source": [
    "with open('/data/www/jennings/infovis/image-tweets-by-polygon.geojson','w') as out:\n",
    "    json.dump(geojson_feature_collection,out)"
   ]
  },
  {
   "cell_type": "markdown",
   "metadata": {},
   "source": [
    "<br><br><br><br><br><br><br><hr>\n",
    "## Troubleshooting"
   ]
  },
  {
   "cell_type": "code",
   "execution_count": 226,
   "metadata": {
    "collapsed": false
   },
   "outputs": [
    {
     "data": {
      "text/plain": [
       "{'geometry': {'coordinates': [[[-0.019481, 51.525469],\n",
       "    [-0.019481, 51.564174],\n",
       "    [0.069473, 51.564174],\n",
       "    [0.069473, 51.525469],\n",
       "    [-0.019481, 51.525469]]],\n",
       "  'type': 'Polygon'},\n",
       " 'properties': {'count': 4,\n",
       "  'displayName': 'Stratford, London',\n",
       "  'tweets': [{'id': '783803471657046020',\n",
       "    'text': '#prayforhaiti https://t.co/wOh1jIlFBW',\n",
       "    'thumb': 'http://epic-analytics.cs.colorado.edu:9000/jennings/infovis/map_images/783803471657046020.jpg',\n",
       "    'time': '2016-10-05T22:58:04.000000000',\n",
       "    'user': 'symnicola'},\n",
       "   {'id': '785327831375089665',\n",
       "    'text': '#ebook \\n#talent \\n#jamaica \\n#screenwriting\\n#Scotland \\n#Soldier\\n#Police\\n#filmmaking \\nhttps://t.co/hZXw96olfh https://t.co/mJZRxeQKE0',\n",
       "    'thumb': 'http://epic-analytics.cs.colorado.edu:9000/jennings/infovis/map_images/785327831375089665.jpg',\n",
       "    'time': '2016-10-10T03:55:20.000000000',\n",
       "    'user': 'rhpanton'},\n",
       "   {'id': '786588675731628032',\n",
       "    'text': 'Enter our @Crowdrise sweepstakes &amp; help children and families in #Haiti #HurricaneMatthew https://t.co/3YStKhSprb https://t.co/d0871e3sJg',\n",
       "    'thumb': 'http://epic-analytics.cs.colorado.edu:9000/jennings/infovis/map_images/786588675731628032.jpg',\n",
       "    'time': '2016-10-13T15:25:29.000000000',\n",
       "    'user': 'lumos'},\n",
       "   {'id': '786965097436635136',\n",
       "    'text': 'Après l’ouragan: comment aider le peuple haitien de se récupérer #Haiti https://t.co/oqnnfPggNV https://t.co/L8uyGF6S7i',\n",
       "    'thumb': 'http://epic-analytics.cs.colorado.edu:9000/jennings/infovis/map_images/786965097436635136.jpg',\n",
       "    'time': '2016-10-14T16:21:14.000000000',\n",
       "    'user': 'lumos'}]},\n",
       " 'type': 'Feature'}"
      ]
     },
     "execution_count": 226,
     "metadata": {},
     "output_type": "execute_result"
    }
   ],
   "source": [
    "regions[0]"
   ]
  },
  {
   "cell_type": "code",
   "execution_count": null,
   "metadata": {
    "collapsed": true
   },
   "outputs": [],
   "source": []
  }
 ],
 "metadata": {
  "kernelspec": {
   "display_name": "IPython (Python 3)",
   "language": "python",
   "name": "python3"
  },
  "language_info": {
   "codemirror_mode": {
    "name": "ipython",
    "version": 3
   },
   "file_extension": ".py",
   "mimetype": "text/x-python",
   "name": "python",
   "nbconvert_exporter": "python",
   "pygments_lexer": "ipython3",
   "version": "3.4.3"
  }
 },
 "nbformat": 4,
 "nbformat_minor": 1
}
