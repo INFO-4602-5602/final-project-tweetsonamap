{
 "cells": [
  {
   "cell_type": "markdown",
   "metadata": {},
   "source": [
    "# Converting geotagged tweets to GEOJSON\n",
    "(Reference: https://github.com/INFO-4602-5602/final-project-tweetsonamap/issues/4)"
   ]
  },
  {
   "cell_type": "code",
   "execution_count": 26,
   "metadata": {
    "collapsed": false
   },
   "outputs": [],
   "source": [
    "import pymongo, json, pprint, urllib.request, os.path, sys"
   ]
  },
  {
   "cell_type": "markdown",
   "metadata": {},
   "source": [
    "Connect to the DB\n",
    "\n",
    "    client = pymongo.MongoClient('mongodb://epic-analytics.cs.colorado.edu')\n",
    "    db = client.matthew\n",
    "    print(db.collection_names())\n",
    "    tweets = db.tweets\n",
    "    print(tweets.count(), \"tweets\")"
   ]
  },
  {
   "cell_type": "code",
   "execution_count": 65,
   "metadata": {
    "collapsed": false
   },
   "outputs": [],
   "source": [
    "client = pymongo.MongoClient('localhost')\n",
    "tweets = client['matthew'].tweets"
   ]
  },
  {
   "cell_type": "code",
   "execution_count": 80,
   "metadata": {
    "collapsed": true
   },
   "outputs": [],
   "source": [
    "cursor = tweets.find({'geo' : {\"$exists\":True}}).limit(10000).batch_size(10)"
   ]
  },
  {
   "cell_type": "code",
   "execution_count": 84,
   "metadata": {
    "collapsed": false,
    "scrolled": false
   },
   "outputs": [
    {
     "ename": "KeyError",
     "evalue": "'geo'",
     "output_type": "error",
     "traceback": [
      "\u001b[0;31m---------------------------------------------------------------------------\u001b[0m",
      "\u001b[0;31mKeyError\u001b[0m                                  Traceback (most recent call last)",
      "\u001b[0;32m<ipython-input-84-fa0e7ae4c17e>\u001b[0m in \u001b[0;36m<module>\u001b[0;34m()\u001b[0m\n\u001b[1;32m      5\u001b[0m     \u001b[0;32mif\u001b[0m \u001b[0mos\u001b[0m\u001b[0;34m.\u001b[0m\u001b[0mpath\u001b[0m\u001b[0;34m.\u001b[0m\u001b[0mexists\u001b[0m\u001b[0;34m(\u001b[0m\u001b[0;34m\"/data/www/jennings/infovis/map_images/\"\u001b[0m\u001b[0;34m+\u001b[0m\u001b[0mtweet_id\u001b[0m\u001b[0;34m+\u001b[0m\u001b[0;34m\".jpg\"\u001b[0m\u001b[0;34m)\u001b[0m\u001b[0;34m:\u001b[0m\u001b[0;34m\u001b[0m\u001b[0m\n\u001b[1;32m      6\u001b[0m         jsonObj = { \"type\" : \"Feature\",\n\u001b[0;32m----> 7\u001b[0;31m                  \u001b[0;34m\"geometry\"\u001b[0m \u001b[0;34m:\u001b[0m \u001b[0;34m{\u001b[0m\u001b[0;34m\"type\"\u001b[0m \u001b[0;34m:\u001b[0m \u001b[0;34m\"Point\"\u001b[0m\u001b[0;34m,\u001b[0m \u001b[0;34m\"coordinates\"\u001b[0m \u001b[0;34m:\u001b[0m \u001b[0mlist\u001b[0m\u001b[0;34m(\u001b[0m\u001b[0mreversed\u001b[0m\u001b[0;34m(\u001b[0m\u001b[0mt\u001b[0m\u001b[0;34m[\u001b[0m\u001b[0;34m'geo'\u001b[0m\u001b[0;34m]\u001b[0m\u001b[0;34m[\u001b[0m\u001b[0;34m'coordinates'\u001b[0m\u001b[0;34m]\u001b[0m\u001b[0;34m)\u001b[0m\u001b[0;34m)\u001b[0m\u001b[0;34m}\u001b[0m\u001b[0;34m,\u001b[0m\u001b[0;34m\u001b[0m\u001b[0m\n\u001b[0m\u001b[1;32m      8\u001b[0m                  \"properties\" : {  \"id\" : tweet_id,\n\u001b[1;32m      9\u001b[0m                                    \u001b[0;34m\"user\"\u001b[0m \u001b[0;34m:\u001b[0m \u001b[0mt\u001b[0m\u001b[0;34m[\u001b[0m\u001b[0;34m'actor'\u001b[0m\u001b[0;34m]\u001b[0m\u001b[0;34m[\u001b[0m\u001b[0;34m'preferredUsername'\u001b[0m\u001b[0;34m]\u001b[0m\u001b[0;34m,\u001b[0m\u001b[0;34m\u001b[0m\u001b[0m\n",
      "\u001b[0;31mKeyError\u001b[0m: 'geo'"
     ]
    }
   ],
   "source": [
    "idx = 0;\n",
    "feats = []\n",
    "for t in cursor:\n",
    "    tweet_id = t['id'].split(\":\")[2]\n",
    "    if os.path.exists(\"/data/www/jennings/infovis/map_images/\"+tweet_id+\".jpg\"):\n",
    "        jsonObj = { \"type\" : \"Feature\",\n",
    "                 \"geometry\" : {\"type\" : \"Point\", \"coordinates\" : list(reversed(t['geo']['coordinates']))},\n",
    "                 \"properties\" : {  \"id\" : tweet_id,\n",
    "                                   \"user\" : t['actor']['preferredUsername'],\n",
    "                                   \"text\" : t['body'],\n",
    "                                   \"time\" : 10, #Stubbed,\n",
    "                                   \"topic\" : 1 #Stubbed\n",
    "           }\n",
    "         }\n",
    "        feats.append(jsonObj)"
   ]
  },
  {
   "cell_type": "code",
   "execution_count": 82,
   "metadata": {
    "collapsed": false
   },
   "outputs": [],
   "source": [
    "with open('/data/www/jennings/infovis-insta10000.geojson','w') as outFile:\n",
    "    json.dump({'type':\"FeatureCollection\",\"features\":feats},outFile)"
   ]
  },
  {
   "cell_type": "markdown",
   "metadata": {},
   "source": [
    "## For Twitter"
   ]
  },
  {
   "cell_type": "code",
   "execution_count": 93,
   "metadata": {
    "collapsed": true
   },
   "outputs": [],
   "source": [
    "geo_image_tweets = {\n",
    "    \"verb\":\"post\", # original tweet\n",
    "    \"twitter_extended_entities.media.0\":{\"$exists\":True}, # at least 1 media entity\n",
    "    \"twitter_extended_entities.media\": {\"$all\":[{\"$elemMatch\": { \"type\": \"photo\" }}]}, # all media entities are photos\n",
    "    \"location.geo.coordinates\":{\"$exists\":True} # has geolocation (not necessarily a point)\n",
    "}\n",
    "cursor = tweets.find(geo_image_tweets).limit(10000).batch_size(10)"
   ]
  },
  {
   "cell_type": "code",
   "execution_count": 94,
   "metadata": {
    "collapsed": true
   },
   "outputs": [],
   "source": [
    "idx = 0;\n",
    "feats = []\n",
    "for t in cursor:\n",
    "    tweet_id = t['id'].split(\":\")[2]\n",
    "    if os.path.exists(\"/data/www/jennings/infovis/map_images/\"+tweet_id+\".jpg\"):\n",
    "        if t['location']['geo']['type'] == \"Point\":\n",
    "            coords = t['location']['geo']['coordinates']\n",
    "            jsonObj = { \"type\" : \"Feature\",\n",
    "                     \"geometry\" : {\"type\" : \"Point\", \"coordinates\" : coords},\n",
    "                     \"properties\" : {  \"id\" : tweet_id,\n",
    "                                       \"user\" : t['actor']['preferredUsername'],\n",
    "                                       \"text\" : t['body'],\n",
    "                                       \"time\" : 10, #Stubbed,\n",
    "                                       \"topic\" : 1 #Stubbed\n",
    "               }\n",
    "             }\n",
    "            feats.append(jsonObj)"
   ]
  },
  {
   "cell_type": "code",
   "execution_count": 95,
   "metadata": {
    "collapsed": true
   },
   "outputs": [],
   "source": [
    "with open('/data/www/jennings/infovis-twitter10000.geojson','w') as outFile:\n",
    "    json.dump({'type':\"FeatureCollection\",\"features\":feats},outFile)"
   ]
  },
  {
   "cell_type": "code",
   "execution_count": null,
   "metadata": {
    "collapsed": true
   },
   "outputs": [],
   "source": []
  }
 ],
 "metadata": {
  "kernelspec": {
   "display_name": "IPython (Python 3)",
   "language": "python",
   "name": "python3"
  },
  "language_info": {
   "codemirror_mode": {
    "name": "ipython",
    "version": 3
   },
   "file_extension": ".py",
   "mimetype": "text/x-python",
   "name": "python",
   "nbconvert_exporter": "python",
   "pygments_lexer": "ipython3",
   "version": "3.4.3"
  }
 },
 "nbformat": 4,
 "nbformat_minor": 1
}
