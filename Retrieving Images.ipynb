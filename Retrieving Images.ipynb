{
 "cells": [
  {
   "cell_type": "markdown",
   "metadata": {},
   "source": [
    "# Download the images from the tweets and push to s3 for scalable CDN\n",
    "(Reference: https://github.com/INFO-4602-5602/final-project-tweetsonamap/issues/2)"
   ]
  },
  {
   "cell_type": "code",
   "execution_count": 94,
   "metadata": {
    "collapsed": false
   },
   "outputs": [],
   "source": [
    "import pymongo, json, pprint, urllib.request\n",
    "from html.parser import HTMLParser"
   ]
  },
  {
   "cell_type": "markdown",
   "metadata": {},
   "source": [
    "Connect to the DB\n",
    "\n",
    "    client = pymongo.MongoClient('mongodb://epic-analytics.cs.colorado.edu')\n",
    "    db = client.matthew\n",
    "    print(db.collection_names())\n",
    "    tweets = db.tweets\n",
    "    print(tweets.count(), \"tweets\")"
   ]
  },
  {
   "cell_type": "code",
   "execution_count": 97,
   "metadata": {
    "collapsed": false
   },
   "outputs": [],
   "source": [
    "client = pymongo.MongoClient('localhost')\n",
    "tweets = client['matthew'].tweets"
   ]
  },
  {
   "cell_type": "code",
   "execution_count": 104,
   "metadata": {
    "collapsed": false
   },
   "outputs": [],
   "source": [
    "err_log = open('err_ids.log','w')"
   ]
  },
  {
   "cell_type": "markdown",
   "metadata": {},
   "source": [
    "###  Image Handlers"
   ]
  },
  {
   "cell_type": "code",
   "execution_count": 98,
   "metadata": {
    "collapsed": false
   },
   "outputs": [],
   "source": [
    "class InstagramHandler(HTMLParser):\n",
    "    \"\"\"\n",
    "        Custom function to handle scraping images from Instagram... totally violates TOS, I think.\n",
    "    \"\"\"\n",
    "    def __init__(self, tweet_id):\n",
    "        self.image_url = None\n",
    "        self.tweet_id = tweet_id\n",
    "        self.directory = \"instagram\"\n",
    "        super().__init__()\n",
    "\n",
    "    def handle_starttag(self, tag, attrs):\n",
    "        if tag=='meta':\n",
    "            if attrs[0][1]=='og:image':\n",
    "                self.image_url = attrs[1][1]\n",
    "                \n",
    "                try:\n",
    "                    req = urllib.request.urlopen(self.image_url)\n",
    "                    with open(self.directory+\"/\"+self.tweet_id+\".jpg\",'wb') as pic:\n",
    "                        pic.write(req.read())\n",
    "                except:\n",
    "                    err_log.write(\"Error, image not found: \"+self.tweet_id+\"\\n\")"
   ]
  },
  {
   "cell_type": "code",
   "execution_count": 101,
   "metadata": {
    "collapsed": true
   },
   "outputs": [],
   "source": [
    "cursor = tweets.find({'geo' : {\"$exists\":True}})"
   ]
  },
  {
   "cell_type": "code",
   "execution_count": null,
   "metadata": {
    "collapsed": false,
    "scrolled": true
   },
   "outputs": [
    {
     "name": "stdout",
     "output_type": "stream",
     "text": [
      ".."
     ]
    },
    {
     "name": "stderr",
     "output_type": "stream",
     "text": [
      "-c:8: DeprecationWarning: The value of convert_charrefs will become True in 3.5. You are encouraged to set the value explicitly.\n"
     ]
    },
    {
     "name": "stdout",
     "output_type": "stream",
     "text": [
      "[('property', 'og:image'), ('content', 'https://scontent.cdninstagram.com/t51.2885-15/s640x640/e15/14482793_180539412382800_1150376259742597120_n.jpg')]\n",
      "...[('property', 'og:image'), ('content', 'https://scontent.cdninstagram.com/t51.2885-15/s750x750/sh0.08/e35/14474550_300109070358925_5318753938768396288_n.jpg')]\n",
      ".[('property', 'og:image'), ('content', 'https://scontent.cdninstagram.com/t51.2885-15/s640x640/sh0.08/e35/14449265_1782022908711993_5132982958105296896_n.jpg')]\n",
      ".[('property', 'og:image'), ('content', 'https://scontent.cdninstagram.com/t51.2885-15/e35/14482896_191501847920148_4847263368295219200_n.jpg')]\n",
      ".[('property', 'og:image'), ('content', 'https://scontent.cdninstagram.com/t51.2885-15/e35/14309865_1764163927156341_6997135606522314752_n.jpg')]\n",
      "..[('property', 'og:image'), ('content', 'https://scontent.cdninstagram.com/t51.2885-15/e35/14310650_196031957492960_6899400030814208000_n.jpg')]\n",
      ".[('property', 'og:image'), ('content', 'https://scontent.cdninstagram.com/t51.2885-15/e35/14488332_1612763239021979_5905636171517526016_n.jpg')]\n",
      ".[('property', 'og:image'), ('content', 'https://scontent.cdninstagram.com/t51.2885-15/e15/p640x640/14478386_1073533592715686_4562362880288096256_n.jpg')]\n",
      ".[('property', 'og:image'), ('content', 'https://scontent.cdninstagram.com/t51.2885-15/e35/14474044_1195767220443570_112695436426346496_n.jpg')]\n",
      "..[('property', 'og:image'), ('content', 'https://scontent.cdninstagram.com/t51.2885-15/e35/14449316_1138058249594561_7057816291754639360_n.jpg')]\n",
      ".[('property', 'og:image'), ('content', 'https://scontent.cdninstagram.com/t51.2885-15/e35/14449135_673172786167132_2373545661032300544_n.jpg')]\n",
      ".[('property', 'og:image'), ('content', 'https://scontent.cdninstagram.com/t51.2885-15/e35/14360113_318290561863965_3659718659141533696_n.jpg')]\n",
      "..[('property', 'og:image'), ('content', 'https://scontent.cdninstagram.com/t51.2885-15/sh0.08/e35/p750x750/14334798_1711709402485249_5648083170508144640_n.jpg')]\n",
      "...[('property', 'og:image'), ('content', 'https://scontent.cdninstagram.com/t51.2885-15/e35/14351006_960520200738159_5408353579402526720_n.jpg')]\n",
      "..[('property', 'og:image'), ('content', 'https://scontent.cdninstagram.com/t51.2885-15/e35/14448439_1791843494367583_2537861897072410624_n.jpg')]\n",
      ".[('property', 'og:image'), ('content', 'https://scontent.cdninstagram.com/t51.2885-15/e35/14288049_959937894134271_5659959652729749504_n.jpg')]\n",
      "...[('property', 'og:image'), ('content', 'https://scontent.cdninstagram.com/t51.2885-15/e35/14482805_175411589567905_5585005953654194176_n.jpg')]\n",
      ".[('property', 'og:image'), ('content', 'https://scontent.cdninstagram.com/t51.2885-15/sh0.08/e35/p750x750/14309936_1087203081334331_2090497978966999040_n.jpg')]\n",
      ".[('property', 'og:image'), ('content', 'https://scontent.cdninstagram.com/t51.2885-15/e35/14488185_1786553044956897_5650892822149070848_n.jpg')]\n",
      ".[('property', 'og:image'), ('content', 'https://scontent.cdninstagram.com/t51.2885-15/e15/p640x640/14487414_1031053910326542_5225085082909278208_n.jpg')]\n",
      ".[('property', 'og:image'), ('content', 'https://scontent.cdninstagram.com/t51.2885-15/s640x640/e15/14334370_1151706374887940_5827630236753199104_n.jpg')]\n",
      ".[('property', 'og:image'), ('content', 'https://scontent.cdninstagram.com/t51.2885-15/e35/14449184_523851594486462_4639455314163269632_n.jpg')]\n",
      ".[('property', 'og:image'), ('content', 'https://scontent.cdninstagram.com/t51.2885-15/e35/14241050_185952431814901_4571132847024242688_n.jpg')]\n",
      ".[('property', 'og:image'), ('content', 'https://scontent.cdninstagram.com/t51.2885-15/e35/14448202_191740054591586_6200898362615529472_n.jpg')]\n",
      ".[('property', 'og:image'), ('content', 'https://scontent.cdninstagram.com/t51.2885-15/e35/14473998_186470451780976_6114844896089079808_n.jpg')]\n",
      ".[('property', 'og:image'), ('content', 'https://scontent.cdninstagram.com/t51.2885-15/e35/14295595_999512676821499_3440085486301872128_n.jpg')]\n",
      ".[('property', 'og:image'), ('content', 'https://scontent.cdninstagram.com/t51.2885-15/e35/14478463_175757206195848_2317751188293943296_n.jpg')]\n",
      ".[('property', 'og:image'), ('content', 'https://scontent.cdninstagram.com/t51.2885-15/e35/14350573_258434734551595_2777124230095962112_n.jpg')]\n",
      ".[('property', 'og:image'), ('content', 'https://scontent.cdninstagram.com/t51.2885-15/e35/14359317_309943422706176_5515703843129655296_n.jpg')]\n",
      ".[('property', 'og:image'), ('content', 'https://scontent.cdninstagram.com/t51.2885-15/e35/14449333_306362093089471_2296271215033057280_n.jpg')]\n",
      "...[('property', 'og:image'), ('content', 'https://scontent.cdninstagram.com/t51.2885-15/s640x640/e15/14359923_360814507641705_183675616443236352_n.jpg')]\n",
      ".[('property', 'og:image'), ('content', 'https://scontent.cdninstagram.com/t51.2885-15/e35/14309796_336118363388721_2305205472858210304_n.jpg')]\n",
      "..[('property', 'og:image'), ('content', 'https://scontent.cdninstagram.com/t51.2885-15/e35/14373942_1834512980116678_1534989743580774400_n.jpg')]\n",
      ".[('property', 'og:image'), ('content', 'https://scontent.cdninstagram.com/t51.2885-15/e35/14350846_1077103665671125_7168353580129189888_n.jpg')]\n",
      "...[('property', 'og:image'), ('content', 'https://scontent.cdninstagram.com/t51.2885-15/e35/14474094_638187713018753_1219614353779589120_n.jpg')]\n",
      ".[('property', 'og:image'), ('content', 'https://scontent.cdninstagram.com/t51.2885-15/e35/14482768_193457781064348_8786616108149899264_n.jpg')]\n",
      "..[('property', 'og:image'), ('content', 'https://scontent.cdninstagram.com/t51.2885-15/e35/14369236_1146699455396702_2160992071765196800_n.jpg')]\n",
      ".[('property', 'og:image'), ('content', 'https://scontent.cdninstagram.com/t51.2885-15/e35/14360105_190373298063985_7887631392413057024_n.jpg')]\n",
      ".[('property', 'og:image'), ('content', 'https://scontent.cdninstagram.com/t51.2885-15/e35/14310773_1785614418347678_4035461467850407936_n.jpg')]\n",
      ".[('property', 'og:image'), ('content', 'https://scontent.cdninstagram.com/t51.2885-15/e35/14350339_537204049802287_3814797867931926528_n.jpg')]\n",
      "..[('property', 'og:image'), ('content', 'https://scontent.cdninstagram.com/t51.2885-15/e35/14360085_337666046579085_1819162548163837952_n.jpg')]\n",
      ".[('property', 'og:image'), ('content', 'https://scontent.cdninstagram.com/t51.2885-15/e35/14487266_1781985665349572_2915639768660312064_n.jpg')]\n",
      ".[('property', 'og:image'), ('content', 'https://scontent.cdninstagram.com/t51.2885-15/e35/14350955_1802237750023350_3525777389596442624_n.jpg')]\n",
      "..[('property', 'og:image'), ('content', 'https://scontent.cdninstagram.com/t51.2885-15/e35/p480x480/14478556_298389347220440_3262431929403703296_n.jpg')]\n",
      ".[('property', 'og:image'), ('content', 'https://scontent.cdninstagram.com/t51.2885-15/e35/14488214_1661594257501689_7385966159834644480_n.jpg')]\n",
      ".[('property', 'og:image'), ('content', 'https://scontent.cdninstagram.com/t51.2885-15/e35/14373972_901118663351610_6087621834293903360_n.jpg')]\n",
      ".[('property', 'og:image'), ('content', 'https://scontent.cdninstagram.com/t51.2885-15/s640x640/e15/14350480_188976291527102_4381969082715471872_n.jpg')]\n",
      ".[('property', 'og:image'), ('content', 'https://scontent.cdninstagram.com/t51.2885-15/e35/14488116_1092449397517218_2321788479027019776_n.jpg')]\n",
      ".[('property', 'og:image'), ('content', 'https://scontent.cdninstagram.com/t51.2885-15/e35/14374374_1762896853975524_1200638123113971712_n.jpg')]\n",
      ".[('property', 'og:image'), ('content', 'https://scontent.cdninstagram.com/t51.2885-15/e35/14360065_1785397865005495_1020566057246523392_n.jpg')]\n",
      ".[('property', 'og:image'), ('content', 'https://scontent.cdninstagram.com/t51.2885-15/e35/14272064_125738901220023_1248487795412959232_n.jpg')]\n"
     ]
    }
   ],
   "source": [
    "for t in cursor:\n",
    "    tweet_id = t['id'].split(\":\")[2]\n",
    "    for url in t['twitter_entities']['urls']:\n",
    "        print(\".\",end=\"\")\n",
    "        \n",
    "        #Instagram Case\n",
    "        if url['expanded_url'].startswith(\"https://www.instagram.com\"):            \n",
    "            parser = InstagramHandler(tweet_id)\n",
    "            try:\n",
    "                req = urllib.request.urlopen(url['expanded_url'])\n",
    "                parser.feed(req.read().decode('utf-8'))\n",
    "            except:\n",
    "                err_log.write(\"Error, page not found: \"+tweet_id)"
   ]
  },
  {
   "cell_type": "code",
   "execution_count": 87,
   "metadata": {
    "collapsed": true
   },
   "outputs": [],
   "source": []
  },
  {
   "cell_type": "code",
   "execution_count": null,
   "metadata": {
    "collapsed": true
   },
   "outputs": [],
   "source": []
  }
 ],
 "metadata": {
  "kernelspec": {
   "display_name": "IPython (Python 3)",
   "language": "python",
   "name": "python3"
  },
  "language_info": {
   "codemirror_mode": {
    "name": "ipython",
    "version": 3
   },
   "file_extension": ".py",
   "mimetype": "text/x-python",
   "name": "python",
   "nbconvert_exporter": "python",
   "pygments_lexer": "ipython3",
   "version": "3.4.3"
  }
 },
 "nbformat": 4,
 "nbformat_minor": 1
}
